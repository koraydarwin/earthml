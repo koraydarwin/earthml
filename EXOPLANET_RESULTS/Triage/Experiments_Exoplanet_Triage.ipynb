{
  "nbformat": 4,
  "nbformat_minor": 0,
  "metadata": {
    "colab": {
      "name": "Experiments_Exoplanet_Triage.ipynb",
      "provenance": []
    },
    "kernelspec": {
      "name": "python3",
      "display_name": "Python 3"
    },
    "language_info": {
      "name": "python"
    },
    "accelerator": "GPU"
  },
  "cells": [
    {
      "cell_type": "markdown",
      "source": [
        "# EXPERIMENTS"
      ],
      "metadata": {
        "id": "A1DXhdhdLp1q"
      }
    },
    {
      "cell_type": "code",
      "execution_count": 1,
      "metadata": {
        "id": "ft4LuYMlQrbP"
      },
      "outputs": [],
      "source": [
        "import pandas as pd\n",
        "import numpy as np\n",
        "import tensorflow as tf\n",
        "from tensorflow.keras import datasets, layers, models\n",
        "import matplotlib.pyplot as plt\n",
        "from google.colab import drive\n",
        "import numpy as np\n",
        "import pandas as pd\n",
        "import matplotlib.pyplot as plt\n",
        "from google.colab import files\n",
        "\n",
        "from sklearn.metrics import confusion_matrix\n",
        "from sklearn.metrics import plot_confusion_matrix\n",
        "from sklearn.metrics import classification_report"
      ]
    },
    {
      "cell_type": "markdown",
      "source": [
        "## DATA"
      ],
      "metadata": {
        "id": "344IzqMlS2FV"
      }
    },
    {
      "cell_type": "code",
      "source": [
        "url=\"https://drive.google.com/file/d/1iJ4lNlprpCUOZZc1tlt73EFcwqpA9iQ4/view?usp=sharing\"\n",
        "url2='https://drive.google.com/uc?id=' + url.split('/')[-2]\n",
        "x_train_1 = pd.read_csv(url2)"
      ],
      "metadata": {
        "id": "mtNSAfWJEvFC"
      },
      "execution_count": 2,
      "outputs": []
    },
    {
      "cell_type": "code",
      "source": [
        "##training_set\n",
        "#x_train_1 = pd.read_pickle(\"https://github.com/koraydarwin/earthml/blob/master/raw_glob_train.pkl?raw=true#\")\n",
        "x_train_2 = pd.read_csv(\"https://github.com/koraydarwin/earthml/blob/master/raw_loc_train.csv?raw=true\")\n",
        "y_train = pd.read_csv(\"https://raw.githubusercontent.com/koraydarwin/earthml/master/raw_label_train.csv\")\n",
        "\n",
        "##test_set\n",
        "x_test_1 = pd.read_csv(\"https://github.com/koraydarwin/earthml/blob/master/test/raw_glob_test.csv?raw=true\")\n",
        "x_test_2 = pd.read_csv(\"https://github.com/koraydarwin/earthml/blob/master/test/raw_loc_test.csv?raw=true\")\n",
        "y_test = pd.read_csv(\"https://raw.githubusercontent.com/koraydarwin/earthml/master/test/raw_label_test.csv\")\n",
        "\n",
        "##val_set\n",
        "x_val_1 = pd.read_csv(\"https://github.com/koraydarwin/earthml/blob/master/val/raw_glob_val.csv?raw=true\")\n",
        "x_val_2 = pd.read_csv(\"https://github.com/koraydarwin/earthml/blob/master/val/raw_loc_val.csv?raw=true\")\n",
        "y_val = pd.read_csv(\"https://raw.githubusercontent.com/koraydarwin/earthml/master/val/raw_label_val.csv\")\n",
        "\n",
        "del x_train_1[\"Unnamed: 0\"]\n",
        "del x_train_2[\"Unnamed: 0\"]\n",
        "del y_train[\"Unnamed: 0\"]\n",
        "\n",
        "x_train_1 = np.asarray(x_train_1)\n",
        "x_train_2 = np.asarray(x_train_2)\n",
        "y_train = np.asarray(y_train)\n",
        "\n",
        "del x_test_1[\"Unnamed: 0\"]\n",
        "del x_test_2[\"Unnamed: 0\"]\n",
        "del y_test[\"Unnamed: 0\"]\n",
        "\n",
        "x_test_1 = np.asarray(x_test_1)\n",
        "x_test_2 = np.asarray(x_test_2)\n",
        "y_test = np.asarray(y_test)\n",
        "\n",
        "del x_val_1[\"Unnamed: 0\"]\n",
        "del x_val_2[\"Unnamed: 0\"]\n",
        "del y_val[\"Unnamed: 0\"]\n",
        "\n",
        "x_val_1 = np.asarray(x_val_1)\n",
        "x_val_2 = np.asarray(x_val_2)\n",
        "y_val = np.asarray(y_val)"
      ],
      "metadata": {
        "id": "xO-I8wEMRR8O"
      },
      "execution_count": 3,
      "outputs": []
    },
    {
      "cell_type": "code",
      "source": [
        "x_train_1 = x_train_1.reshape((13201, 201, 1))\n",
        "x_train_2 = x_train_2.reshape((13201, 61, 1))\n",
        "\n",
        "x_test_1 = x_test_1.reshape((1658, 201, 1))\n",
        "x_test_2 = x_test_2.reshape((1658, 61, 1))\n",
        "\n",
        "x_val_1 = x_val_1.reshape((1657, 201, 1))\n",
        "x_val_2 = x_val_2.reshape((1657, 61, 1))"
      ],
      "metadata": {
        "id": "KTNqnCl0RR49"
      },
      "execution_count": 4,
      "outputs": []
    },
    {
      "cell_type": "markdown",
      "source": [
        "### Reproducing"
      ],
      "metadata": {
        "id": "Yn58zMpvRtae"
      }
    },
    {
      "cell_type": "code",
      "source": [
        "##model\n",
        "input_1 = tf.keras.layers.Input(shape=(201, 1))\n",
        "\n",
        "x = tf.keras.layers.Conv1D(16, 5, activation='relu', padding='same')(input_1)\n",
        "x = tf.keras.layers.Conv1D(16, 5, activation='relu', padding='same')(x)\n",
        "x = tf.keras.layers.MaxPool1D(5, 2, padding='same')(x)\n",
        "x = tf.keras.layers.Conv1D(32, 5, activation='relu', padding='same')(x)\n",
        "x = tf.keras.layers.Conv1D(32, 5, activation='relu', padding='same')(x)\n",
        "x = tf.keras.layers.MaxPool1D(5, 2, padding='same')(x)\n",
        "x = tf.keras.layers.Conv1D(64, 5, activation='relu', padding='same')(x)\n",
        "x = tf.keras.layers.Conv1D(64, 5, activation='relu', padding='same')(x)\n",
        "x = tf.keras.layers.MaxPool1D(5, 2, padding='same')(x)\n",
        "x = tf.keras.layers.Conv1D(128, 5, activation='relu', padding='same')(x)\n",
        "x = tf.keras.layers.Conv1D(128, 5, activation='relu', padding='same')(x)\n",
        "x = tf.keras.layers.MaxPool1D(5, 2, padding='same')(x)\n",
        "x = tf.keras.layers.Conv1D(256, 5, activation='relu', padding='same')(x)\n",
        "x = tf.keras.layers.Conv1D(256, 5, activation='relu', padding='same')(x)\n",
        "x = tf.keras.layers.MaxPool1D(5, 2, padding='same')(x)\n",
        "\n",
        "x.get_shape().assert_has_rank(3)\n",
        "net_shape = x.get_shape().as_list()\n",
        "output_dim = net_shape[1] * net_shape[2]\n",
        "x = tf.reshape(x, [-1, output_dim], name=\"flatten\")\n",
        "\n",
        "\n",
        "input_2 = tf.keras.layers.Input(shape=(61, 1))\n",
        "y = tf.keras.layers.Conv1D(16, 5, activation='relu', padding='same')(input_2)\n",
        "y = tf.keras.layers.Conv1D(16, 5, activation='relu', padding='same')(y)\n",
        "y = tf.keras.layers.MaxPool1D(7, 2, padding='same')(y)\n",
        "y = tf.keras.layers.Conv1D(32, 5, activation='relu', padding='same')(y) \n",
        "y = tf.keras.layers.Conv1D(32, 5, activation='relu', padding='same')(y)\n",
        "y = tf.keras.layers.MaxPool1D(7, 2, padding='same')(y)\n",
        "\n",
        "y.get_shape().assert_has_rank(3)\n",
        "net_shape = y.get_shape().as_list()\n",
        "output_dim = net_shape[1] * net_shape[2]\n",
        "y = tf.reshape(y, [-1, output_dim], name=\"flatten\")\n",
        "\n",
        "concat = tf.keras.layers.Concatenate(axis = -1)([x, y])\n",
        "\n",
        "output = tf.keras.layers.Dense(512)(concat)\n",
        "output = tf.keras.layers.Dense(512)(output)\n",
        "output = tf.keras.layers.Dense(512)(output)\n",
        "output = tf.keras.layers.Dense(512)(output)\n",
        "output = tf.keras.layers.Dense(1, activation = \"sigmoid\")(output)\n",
        "\n",
        "full_model = tf.keras.Model(inputs=[input_1, input_2], outputs=[output])\n",
        "\n",
        "full_model.summary()\n",
        "\n",
        "full_model.compile(tf.keras.optimizers.Adam(learning_rate=1e-05, beta_1=0.9, beta_2=0.999, epsilon=1e-08),\n",
        "              loss=tf.keras.losses.BinaryCrossentropy(from_logits=False),\n",
        "              metrics=[\"accuracy\"])"
      ],
      "metadata": {
        "colab": {
          "base_uri": "https://localhost:8080/"
        },
        "id": "f1-qZSz5Rv9X",
        "outputId": "a76ce117-6fd8-46e7-ca17-fb296ac4d82a"
      },
      "execution_count": 5,
      "outputs": [
        {
          "output_type": "stream",
          "name": "stdout",
          "text": [
            "Model: \"model\"\n",
            "__________________________________________________________________________________________________\n",
            " Layer (type)                   Output Shape         Param #     Connected to                     \n",
            "==================================================================================================\n",
            " input_1 (InputLayer)           [(None, 201, 1)]     0           []                               \n",
            "                                                                                                  \n",
            " conv1d (Conv1D)                (None, 201, 16)      96          ['input_1[0][0]']                \n",
            "                                                                                                  \n",
            " conv1d_1 (Conv1D)              (None, 201, 16)      1296        ['conv1d[0][0]']                 \n",
            "                                                                                                  \n",
            " max_pooling1d (MaxPooling1D)   (None, 101, 16)      0           ['conv1d_1[0][0]']               \n",
            "                                                                                                  \n",
            " conv1d_2 (Conv1D)              (None, 101, 32)      2592        ['max_pooling1d[0][0]']          \n",
            "                                                                                                  \n",
            " conv1d_3 (Conv1D)              (None, 101, 32)      5152        ['conv1d_2[0][0]']               \n",
            "                                                                                                  \n",
            " max_pooling1d_1 (MaxPooling1D)  (None, 51, 32)      0           ['conv1d_3[0][0]']               \n",
            "                                                                                                  \n",
            " conv1d_4 (Conv1D)              (None, 51, 64)       10304       ['max_pooling1d_1[0][0]']        \n",
            "                                                                                                  \n",
            " conv1d_5 (Conv1D)              (None, 51, 64)       20544       ['conv1d_4[0][0]']               \n",
            "                                                                                                  \n",
            " max_pooling1d_2 (MaxPooling1D)  (None, 26, 64)      0           ['conv1d_5[0][0]']               \n",
            "                                                                                                  \n",
            " input_2 (InputLayer)           [(None, 61, 1)]      0           []                               \n",
            "                                                                                                  \n",
            " conv1d_6 (Conv1D)              (None, 26, 128)      41088       ['max_pooling1d_2[0][0]']        \n",
            "                                                                                                  \n",
            " conv1d_10 (Conv1D)             (None, 61, 16)       96          ['input_2[0][0]']                \n",
            "                                                                                                  \n",
            " conv1d_7 (Conv1D)              (None, 26, 128)      82048       ['conv1d_6[0][0]']               \n",
            "                                                                                                  \n",
            " conv1d_11 (Conv1D)             (None, 61, 16)       1296        ['conv1d_10[0][0]']              \n",
            "                                                                                                  \n",
            " max_pooling1d_3 (MaxPooling1D)  (None, 13, 128)     0           ['conv1d_7[0][0]']               \n",
            "                                                                                                  \n",
            " max_pooling1d_5 (MaxPooling1D)  (None, 31, 16)      0           ['conv1d_11[0][0]']              \n",
            "                                                                                                  \n",
            " conv1d_8 (Conv1D)              (None, 13, 256)      164096      ['max_pooling1d_3[0][0]']        \n",
            "                                                                                                  \n",
            " conv1d_12 (Conv1D)             (None, 31, 32)       2592        ['max_pooling1d_5[0][0]']        \n",
            "                                                                                                  \n",
            " conv1d_9 (Conv1D)              (None, 13, 256)      327936      ['conv1d_8[0][0]']               \n",
            "                                                                                                  \n",
            " conv1d_13 (Conv1D)             (None, 31, 32)       5152        ['conv1d_12[0][0]']              \n",
            "                                                                                                  \n",
            " max_pooling1d_4 (MaxPooling1D)  (None, 7, 256)      0           ['conv1d_9[0][0]']               \n",
            "                                                                                                  \n",
            " max_pooling1d_6 (MaxPooling1D)  (None, 16, 32)      0           ['conv1d_13[0][0]']              \n",
            "                                                                                                  \n",
            " tf.reshape (TFOpLambda)        (None, 1792)         0           ['max_pooling1d_4[0][0]']        \n",
            "                                                                                                  \n",
            " tf.reshape_1 (TFOpLambda)      (None, 512)          0           ['max_pooling1d_6[0][0]']        \n",
            "                                                                                                  \n",
            " concatenate (Concatenate)      (None, 2304)         0           ['tf.reshape[0][0]',             \n",
            "                                                                  'tf.reshape_1[0][0]']           \n",
            "                                                                                                  \n",
            " dense (Dense)                  (None, 512)          1180160     ['concatenate[0][0]']            \n",
            "                                                                                                  \n",
            " dense_1 (Dense)                (None, 512)          262656      ['dense[0][0]']                  \n",
            "                                                                                                  \n",
            " dense_2 (Dense)                (None, 512)          262656      ['dense_1[0][0]']                \n",
            "                                                                                                  \n",
            " dense_3 (Dense)                (None, 512)          262656      ['dense_2[0][0]']                \n",
            "                                                                                                  \n",
            " dense_4 (Dense)                (None, 1)            513         ['dense_3[0][0]']                \n",
            "                                                                                                  \n",
            "==================================================================================================\n",
            "Total params: 2,632,929\n",
            "Trainable params: 2,632,929\n",
            "Non-trainable params: 0\n",
            "__________________________________________________________________________________________________\n"
          ]
        }
      ]
    },
    {
      "cell_type": "code",
      "source": [
        "history = full_model.fit(\n",
        "    [x_train_1,\n",
        "    x_train_2], y_train,\n",
        "    batch_size=64,\n",
        "    epochs=65, validation_data=([x_val_1, x_val_2], y_val))"
      ],
      "metadata": {
        "colab": {
          "base_uri": "https://localhost:8080/"
        },
        "id": "fytU8ErRRv4s",
        "outputId": "21d17e3c-0f1d-47fc-f2da-c9dcd87db63b"
      },
      "execution_count": 6,
      "outputs": [
        {
          "output_type": "stream",
          "name": "stdout",
          "text": [
            "Epoch 1/65\n",
            "207/207 [==============================] - 10s 29ms/step - loss: 0.3606 - accuracy: 0.8409 - val_loss: 0.2206 - val_accuracy: 0.9113\n",
            "Epoch 2/65\n",
            "207/207 [==============================] - 5s 22ms/step - loss: 0.1989 - accuracy: 0.9259 - val_loss: 0.1637 - val_accuracy: 0.9366\n",
            "Epoch 3/65\n",
            "207/207 [==============================] - 5s 22ms/step - loss: 0.1521 - accuracy: 0.9440 - val_loss: 0.1350 - val_accuracy: 0.9517\n",
            "Epoch 4/65\n",
            "207/207 [==============================] - 5s 22ms/step - loss: 0.1302 - accuracy: 0.9536 - val_loss: 0.1169 - val_accuracy: 0.9529\n",
            "Epoch 5/65\n",
            "207/207 [==============================] - 5s 22ms/step - loss: 0.1193 - accuracy: 0.9574 - val_loss: 0.1091 - val_accuracy: 0.9590\n",
            "Epoch 6/65\n",
            "207/207 [==============================] - 5s 22ms/step - loss: 0.1127 - accuracy: 0.9595 - val_loss: 0.1080 - val_accuracy: 0.9553\n",
            "Epoch 7/65\n",
            "207/207 [==============================] - 5s 22ms/step - loss: 0.1081 - accuracy: 0.9615 - val_loss: 0.1025 - val_accuracy: 0.9614\n",
            "Epoch 8/65\n",
            "207/207 [==============================] - 5s 23ms/step - loss: 0.1075 - accuracy: 0.9618 - val_loss: 0.1020 - val_accuracy: 0.9614\n",
            "Epoch 9/65\n",
            "207/207 [==============================] - 5s 22ms/step - loss: 0.1044 - accuracy: 0.9614 - val_loss: 0.1020 - val_accuracy: 0.9620\n",
            "Epoch 10/65\n",
            "207/207 [==============================] - 5s 23ms/step - loss: 0.1008 - accuracy: 0.9638 - val_loss: 0.1072 - val_accuracy: 0.9565\n",
            "Epoch 11/65\n",
            "207/207 [==============================] - 5s 22ms/step - loss: 0.0993 - accuracy: 0.9645 - val_loss: 0.1018 - val_accuracy: 0.9590\n",
            "Epoch 12/65\n",
            "207/207 [==============================] - 5s 23ms/step - loss: 0.0986 - accuracy: 0.9644 - val_loss: 0.0999 - val_accuracy: 0.9626\n",
            "Epoch 13/65\n",
            "207/207 [==============================] - 5s 22ms/step - loss: 0.0955 - accuracy: 0.9658 - val_loss: 0.1043 - val_accuracy: 0.9590\n",
            "Epoch 14/65\n",
            "207/207 [==============================] - 5s 23ms/step - loss: 0.0945 - accuracy: 0.9658 - val_loss: 0.0986 - val_accuracy: 0.9620\n",
            "Epoch 15/65\n",
            "207/207 [==============================] - 5s 22ms/step - loss: 0.0938 - accuracy: 0.9649 - val_loss: 0.0956 - val_accuracy: 0.9644\n",
            "Epoch 16/65\n",
            "207/207 [==============================] - 5s 25ms/step - loss: 0.0916 - accuracy: 0.9658 - val_loss: 0.1006 - val_accuracy: 0.9614\n",
            "Epoch 17/65\n",
            "207/207 [==============================] - 5s 23ms/step - loss: 0.0911 - accuracy: 0.9677 - val_loss: 0.0941 - val_accuracy: 0.9668\n",
            "Epoch 18/65\n",
            "207/207 [==============================] - 5s 24ms/step - loss: 0.0898 - accuracy: 0.9680 - val_loss: 0.0993 - val_accuracy: 0.9626\n",
            "Epoch 19/65\n",
            "207/207 [==============================] - 5s 23ms/step - loss: 0.0882 - accuracy: 0.9686 - val_loss: 0.0936 - val_accuracy: 0.9674\n",
            "Epoch 20/65\n",
            "207/207 [==============================] - 5s 22ms/step - loss: 0.0872 - accuracy: 0.9687 - val_loss: 0.0948 - val_accuracy: 0.9650\n",
            "Epoch 21/65\n",
            "207/207 [==============================] - 5s 23ms/step - loss: 0.0851 - accuracy: 0.9688 - val_loss: 0.0941 - val_accuracy: 0.9680\n",
            "Epoch 22/65\n",
            "207/207 [==============================] - 5s 23ms/step - loss: 0.0841 - accuracy: 0.9695 - val_loss: 0.1079 - val_accuracy: 0.9626\n",
            "Epoch 23/65\n",
            "207/207 [==============================] - 5s 23ms/step - loss: 0.0834 - accuracy: 0.9705 - val_loss: 0.0979 - val_accuracy: 0.9644\n",
            "Epoch 24/65\n",
            "207/207 [==============================] - 5s 23ms/step - loss: 0.0812 - accuracy: 0.9701 - val_loss: 0.0916 - val_accuracy: 0.9680\n",
            "Epoch 25/65\n",
            "207/207 [==============================] - 5s 25ms/step - loss: 0.0807 - accuracy: 0.9720 - val_loss: 0.1105 - val_accuracy: 0.9590\n",
            "Epoch 26/65\n",
            "207/207 [==============================] - 5s 24ms/step - loss: 0.0791 - accuracy: 0.9710 - val_loss: 0.0934 - val_accuracy: 0.9680\n",
            "Epoch 27/65\n",
            "207/207 [==============================] - 5s 23ms/step - loss: 0.0768 - accuracy: 0.9711 - val_loss: 0.0935 - val_accuracy: 0.9686\n",
            "Epoch 28/65\n",
            "207/207 [==============================] - 5s 23ms/step - loss: 0.0756 - accuracy: 0.9719 - val_loss: 0.0912 - val_accuracy: 0.9674\n",
            "Epoch 29/65\n",
            "207/207 [==============================] - 5s 24ms/step - loss: 0.0739 - accuracy: 0.9734 - val_loss: 0.0951 - val_accuracy: 0.9680\n",
            "Epoch 30/65\n",
            "207/207 [==============================] - 5s 23ms/step - loss: 0.0739 - accuracy: 0.9739 - val_loss: 0.0920 - val_accuracy: 0.9662\n",
            "Epoch 31/65\n",
            "207/207 [==============================] - 5s 22ms/step - loss: 0.0732 - accuracy: 0.9734 - val_loss: 0.0927 - val_accuracy: 0.9656\n",
            "Epoch 32/65\n",
            "207/207 [==============================] - 5s 23ms/step - loss: 0.0720 - accuracy: 0.9742 - val_loss: 0.0949 - val_accuracy: 0.9692\n",
            "Epoch 33/65\n",
            "207/207 [==============================] - 5s 23ms/step - loss: 0.0714 - accuracy: 0.9744 - val_loss: 0.0903 - val_accuracy: 0.9686\n",
            "Epoch 34/65\n",
            "207/207 [==============================] - 5s 23ms/step - loss: 0.0709 - accuracy: 0.9749 - val_loss: 0.0977 - val_accuracy: 0.9650\n",
            "Epoch 35/65\n",
            "207/207 [==============================] - 5s 23ms/step - loss: 0.0683 - accuracy: 0.9758 - val_loss: 0.0930 - val_accuracy: 0.9686\n",
            "Epoch 36/65\n",
            "207/207 [==============================] - 5s 23ms/step - loss: 0.0672 - accuracy: 0.9755 - val_loss: 0.0950 - val_accuracy: 0.9644\n",
            "Epoch 37/65\n",
            "207/207 [==============================] - 5s 23ms/step - loss: 0.0687 - accuracy: 0.9737 - val_loss: 0.0929 - val_accuracy: 0.9692\n",
            "Epoch 38/65\n",
            "207/207 [==============================] - 5s 25ms/step - loss: 0.0667 - accuracy: 0.9764 - val_loss: 0.0934 - val_accuracy: 0.9680\n",
            "Epoch 39/65\n",
            "207/207 [==============================] - 5s 23ms/step - loss: 0.0635 - accuracy: 0.9778 - val_loss: 0.1052 - val_accuracy: 0.9632\n",
            "Epoch 40/65\n",
            "207/207 [==============================] - 5s 23ms/step - loss: 0.0641 - accuracy: 0.9766 - val_loss: 0.0937 - val_accuracy: 0.9686\n",
            "Epoch 41/65\n",
            "207/207 [==============================] - 5s 23ms/step - loss: 0.0604 - accuracy: 0.9784 - val_loss: 0.1015 - val_accuracy: 0.9632\n",
            "Epoch 42/65\n",
            "207/207 [==============================] - 5s 22ms/step - loss: 0.0623 - accuracy: 0.9768 - val_loss: 0.1131 - val_accuracy: 0.9620\n",
            "Epoch 43/65\n",
            "207/207 [==============================] - 5s 23ms/step - loss: 0.0591 - accuracy: 0.9781 - val_loss: 0.1012 - val_accuracy: 0.9656\n",
            "Epoch 44/65\n",
            "207/207 [==============================] - 5s 23ms/step - loss: 0.0598 - accuracy: 0.9780 - val_loss: 0.0969 - val_accuracy: 0.9680\n",
            "Epoch 45/65\n",
            "207/207 [==============================] - 5s 23ms/step - loss: 0.0582 - accuracy: 0.9790 - val_loss: 0.1012 - val_accuracy: 0.9662\n",
            "Epoch 46/65\n",
            "207/207 [==============================] - 5s 23ms/step - loss: 0.0558 - accuracy: 0.9785 - val_loss: 0.0984 - val_accuracy: 0.9662\n",
            "Epoch 47/65\n",
            "207/207 [==============================] - 5s 22ms/step - loss: 0.0557 - accuracy: 0.9802 - val_loss: 0.1050 - val_accuracy: 0.9656\n",
            "Epoch 48/65\n",
            "207/207 [==============================] - 5s 23ms/step - loss: 0.0553 - accuracy: 0.9792 - val_loss: 0.1055 - val_accuracy: 0.9668\n",
            "Epoch 49/65\n",
            "207/207 [==============================] - 5s 23ms/step - loss: 0.0533 - accuracy: 0.9805 - val_loss: 0.1258 - val_accuracy: 0.9590\n",
            "Epoch 50/65\n",
            "207/207 [==============================] - 5s 23ms/step - loss: 0.0531 - accuracy: 0.9806 - val_loss: 0.1067 - val_accuracy: 0.9674\n",
            "Epoch 51/65\n",
            "207/207 [==============================] - 5s 23ms/step - loss: 0.0513 - accuracy: 0.9808 - val_loss: 0.1149 - val_accuracy: 0.9620\n",
            "Epoch 52/65\n",
            "207/207 [==============================] - 5s 23ms/step - loss: 0.0512 - accuracy: 0.9815 - val_loss: 0.1095 - val_accuracy: 0.9668\n",
            "Epoch 53/65\n",
            "207/207 [==============================] - 5s 23ms/step - loss: 0.0488 - accuracy: 0.9823 - val_loss: 0.1116 - val_accuracy: 0.9668\n",
            "Epoch 54/65\n",
            "207/207 [==============================] - 5s 23ms/step - loss: 0.0478 - accuracy: 0.9820 - val_loss: 0.1153 - val_accuracy: 0.9668\n",
            "Epoch 55/65\n",
            "207/207 [==============================] - 5s 23ms/step - loss: 0.0453 - accuracy: 0.9833 - val_loss: 0.1181 - val_accuracy: 0.9674\n",
            "Epoch 56/65\n",
            "207/207 [==============================] - 5s 23ms/step - loss: 0.0454 - accuracy: 0.9832 - val_loss: 0.1147 - val_accuracy: 0.9644\n",
            "Epoch 57/65\n",
            "207/207 [==============================] - 5s 23ms/step - loss: 0.0455 - accuracy: 0.9842 - val_loss: 0.1101 - val_accuracy: 0.9668\n",
            "Epoch 58/65\n",
            "207/207 [==============================] - 5s 23ms/step - loss: 0.0444 - accuracy: 0.9843 - val_loss: 0.1155 - val_accuracy: 0.9668\n",
            "Epoch 59/65\n",
            "207/207 [==============================] - 5s 23ms/step - loss: 0.0423 - accuracy: 0.9848 - val_loss: 0.1450 - val_accuracy: 0.9644\n",
            "Epoch 60/65\n",
            "207/207 [==============================] - 5s 25ms/step - loss: 0.0418 - accuracy: 0.9847 - val_loss: 0.1329 - val_accuracy: 0.9547\n",
            "Epoch 61/65\n",
            "207/207 [==============================] - 5s 23ms/step - loss: 0.0413 - accuracy: 0.9845 - val_loss: 0.1164 - val_accuracy: 0.9656\n",
            "Epoch 62/65\n",
            "207/207 [==============================] - 5s 23ms/step - loss: 0.0379 - accuracy: 0.9864 - val_loss: 0.1248 - val_accuracy: 0.9632\n",
            "Epoch 63/65\n",
            "207/207 [==============================] - 5s 23ms/step - loss: 0.0400 - accuracy: 0.9854 - val_loss: 0.1223 - val_accuracy: 0.9650\n",
            "Epoch 64/65\n",
            "207/207 [==============================] - 5s 23ms/step - loss: 0.0368 - accuracy: 0.9855 - val_loss: 0.1469 - val_accuracy: 0.9632\n",
            "Epoch 65/65\n",
            "207/207 [==============================] - 5s 23ms/step - loss: 0.0375 - accuracy: 0.9869 - val_loss: 0.1265 - val_accuracy: 0.9668\n"
          ]
        }
      ]
    },
    {
      "cell_type": "code",
      "source": [
        "full_model.evaluate([x_test_1, x_test_2],  y_test, verbose=2)\n",
        "\n",
        "plt.plot(history.history['accuracy'], label='accuracy')\n",
        "plt.plot(history.history['val_accuracy'], label = 'val_accuracy')\n",
        "plt.xlabel('Epoch')\n",
        "plt.ylabel('Accuracy')\n",
        "plt.ylim([0.5, 1])\n",
        "plt.legend(loc='lower right')\n",
        "plt.savefig(\"acc.png\")\n",
        "\n",
        "pred =full_model.predict([x_test_1, x_test_2], y_test.all())\n",
        "np.save(\"pred.npy\", pred)"
      ],
      "metadata": {
        "colab": {
          "base_uri": "https://localhost:8080/",
          "height": 300
        },
        "id": "XgUBweTbRvxd",
        "outputId": "8d990932-6715-44ae-d6b5-64bf3edf9c00"
      },
      "execution_count": 7,
      "outputs": [
        {
          "output_type": "stream",
          "name": "stdout",
          "text": [
            "52/52 - 1s - loss: 0.1084 - accuracy: 0.9644 - 1s/epoch - 26ms/step\n"
          ]
        },
        {
          "output_type": "display_data",
          "data": {
            "image/png": "[encoded data removed]",
            "text/plain": [
              "<Figure size 432x288 with 1 Axes>"
            ]
          },
          "metadata": {
            "needs_background": "light"
          }
        }
      ]
    },
    {
      "cell_type": "code",
      "source": [
        "print(classification_report(y_test, np.round(pred)))"
      ],
      "metadata": {
        "colab": {
          "base_uri": "https://localhost:8080/"
        },
        "id": "e1L6Zy4gRvtZ",
        "outputId": "d3552fea-b548-4734-9bb0-bbedb076a447"
      },
      "execution_count": 8,
      "outputs": [
        {
          "output_type": "stream",
          "name": "stdout",
          "text": [
            "              precision    recall  f1-score   support\n",
            "\n",
            "           0       0.99      0.97      0.98      1379\n",
            "           1       0.87      0.93      0.90       279\n",
            "\n",
            "    accuracy                           0.96      1658\n",
            "   macro avg       0.93      0.95      0.94      1658\n",
            "weighted avg       0.97      0.96      0.96      1658\n",
            "\n"
          ]
        }
      ]
    },
    {
      "cell_type": "code",
      "source": [
        "cm = confusion_matrix(y_test, np.round(pred))\n",
        "plt.imshow(cm)"
      ],
      "metadata": {
        "colab": {
          "base_uri": "https://localhost:8080/",
          "height": 286
        },
        "id": "LJwTS6uJRvp0",
        "outputId": "f800235a-20d8-4df7-d945-5617713b403a"
      },
      "execution_count": 9,
      "outputs": [
        {
          "output_type": "execute_result",
          "data": {
            "text/plain": [
              "<matplotlib.image.AxesImage at 0x7f7ae0b17e50>"
            ]
          },
          "metadata": {},
          "execution_count": 9
        },
        {
          "output_type": "display_data",
          "data": {
            "image/png": "[encoded data removed]",
            "text/plain": [
              "<Figure size 432x288 with 1 Axes>"
            ]
          },
          "metadata": {
            "needs_background": "light"
          }
        }
      ]
    },
    {
      "cell_type": "code",
      "source": [
        ""
      ],
      "metadata": {
        "id": "DsMF1VpZRvmd"
      },
      "execution_count": null,
      "outputs": []
    },
    {
      "cell_type": "markdown",
      "source": [
        "\n",
        "### Experiment - 1 (GAN Noise)"
      ],
      "metadata": {
        "id": "8nZ7ou-5Hp8X"
      }
    },
    {
      "cell_type": "code",
      "source": [
        "#Adding noise\n",
        "url=\"https://drive.google.com/file/d/1N9YXf9h1d7UcAdKYhF-2f0CDVl-npvTY/view?usp=sharing\"\n",
        "url2='https://drive.google.com/uc?id=' + url.split('/')[-2]\n",
        "noise_1 = pd.read_csv(url2)\n",
        "\n",
        "url=\"https://drive.google.com/file/d/1HzDuPAfHIvVX2CpWHi-m0iLbdb8dJRV-/view?usp=sharing\"\n",
        "url2='https://drive.google.com/uc?id=' + url.split('/')[-2]\n",
        "noise_2 = pd.read_csv(url2)\n",
        "\n",
        "del noise_1[\"Unnamed: 0\"]\n",
        "del noise_2[\"Unnamed: 0\"]\n",
        "\n",
        "noise_1 = np.asarray(noise_1)\n",
        "noise_2 = np.asarray(noise_2)\n",
        "\n",
        "x_train_1 = x_train_1 + noise_1\n",
        "x_train_2 = x_train_2 + noise_2\n",
        "\n",
        "\n",
        "x_train_1 = x_train_1.reshape((13201, 201, 1))\n",
        "x_train_2 = x_train_2.reshape((13201, 61, 1))\n",
        "\n",
        "x_test_1 = x_test_1.reshape((1658, 201, 1))\n",
        "x_test_2 = x_test_2.reshape((1658, 61, 1))\n",
        "\n",
        "x_val_1 = x_val_1.reshape((1657, 201, 1))\n",
        "x_val_2 = x_val_2.reshape((1657, 61, 1))"
      ],
      "metadata": {
        "id": "GXGJrHVySMVS"
      },
      "execution_count": null,
      "outputs": []
    },
    {
      "cell_type": "code",
      "source": [
        "##model\n",
        "input_1 = tf.keras.layers.Input(shape=(201, 1))\n",
        "\n",
        "x = tf.keras.layers.Conv1D(16, 5, activation='relu', padding='same')(input_1)\n",
        "x = tf.keras.layers.Conv1D(16, 5, activation='relu', padding='same')(x)\n",
        "x = tf.keras.layers.MaxPool1D(5, 2, padding='same')(x)\n",
        "x = tf.keras.layers.Conv1D(32, 5, activation='relu', padding='same')(x)\n",
        "x = tf.keras.layers.Conv1D(32, 5, activation='relu', padding='same')(x)\n",
        "x = tf.keras.layers.MaxPool1D(5, 2, padding='same')(x)\n",
        "x = tf.keras.layers.Conv1D(64, 5, activation='relu', padding='same')(x)\n",
        "x = tf.keras.layers.Conv1D(64, 5, activation='relu', padding='same')(x)\n",
        "x = tf.keras.layers.MaxPool1D(5, 2, padding='same')(x)\n",
        "x = tf.keras.layers.Conv1D(128, 5, activation='relu', padding='same')(x)\n",
        "x = tf.keras.layers.Conv1D(128, 5, activation='relu', padding='same')(x)\n",
        "x = tf.keras.layers.MaxPool1D(5, 2, padding='same')(x)\n",
        "x = tf.keras.layers.Conv1D(256, 5, activation='relu', padding='same')(x)\n",
        "x = tf.keras.layers.Conv1D(256, 5, activation='relu', padding='same')(x)\n",
        "x = tf.keras.layers.MaxPool1D(5, 2, padding='same')(x)\n",
        "\n",
        "x.get_shape().assert_has_rank(3)\n",
        "net_shape = x.get_shape().as_list()\n",
        "output_dim = net_shape[1] * net_shape[2]\n",
        "x = tf.reshape(x, [-1, output_dim], name=\"flatten\")\n",
        "\n",
        "\n",
        "input_2 = tf.keras.layers.Input(shape=(61, 1))\n",
        "y = tf.keras.layers.Conv1D(16, 5, activation='relu', padding='same')(input_2)\n",
        "y = tf.keras.layers.Conv1D(16, 5, activation='relu', padding='same')(y)\n",
        "y = tf.keras.layers.MaxPool1D(7, 2, padding='same')(y)\n",
        "y = tf.keras.layers.Conv1D(32, 5, activation='relu', padding='same')(y) \n",
        "y = tf.keras.layers.Conv1D(32, 5, activation='relu', padding='same')(y)\n",
        "y = tf.keras.layers.MaxPool1D(7, 2, padding='same')(y)\n",
        "\n",
        "y.get_shape().assert_has_rank(3)\n",
        "net_shape = y.get_shape().as_list()\n",
        "output_dim = net_shape[1] * net_shape[2]\n",
        "y = tf.reshape(y, [-1, output_dim], name=\"flatten\")\n",
        "\n",
        "concat = tf.keras.layers.Concatenate(axis = -1)([x, y])\n",
        "\n",
        "output = tf.keras.layers.Dense(512)(concat)\n",
        "output = tf.keras.layers.Dense(512)(output)\n",
        "output = tf.keras.layers.Dense(512)(output)\n",
        "output = tf.keras.layers.Dense(512)(output)\n",
        "output = tf.keras.layers.Dense(1, activation = \"sigmoid\")(output)\n",
        "\n",
        "full_model = tf.keras.Model(inputs=[input_1, input_2], outputs=[output])\n",
        "\n",
        "full_model.summary()\n",
        "\n",
        "full_model.compile(tf.keras.optimizers.Adam(learning_rate=1e-05, beta_1=0.9, beta_2=0.999, epsilon=1e-08),\n",
        "              loss=tf.keras.losses.BinaryCrossentropy(from_logits=False),\n",
        "              metrics=[\"accuracy\"])"
      ],
      "metadata": {
        "id": "92gL5MeNRRxq",
        "colab": {
          "base_uri": "https://localhost:8080/"
        },
        "outputId": "9776bc05-ba40-4e7f-cb38-08a2647dcd25"
      },
      "execution_count": null,
      "outputs": [
        {
          "output_type": "stream",
          "name": "stdout",
          "text": [
            "Model: \"model\"\n",
            "__________________________________________________________________________________________________\n",
            " Layer (type)                   Output Shape         Param #     Connected to                     \n",
            "==================================================================================================\n",
            " input_1 (InputLayer)           [(None, 201, 1)]     0           []                               \n",
            "                                                                                                  \n",
            " conv1d (Conv1D)                (None, 201, 16)      96          ['input_1[0][0]']                \n",
            "                                                                                                  \n",
            " conv1d_1 (Conv1D)              (None, 201, 16)      1296        ['conv1d[0][0]']                 \n",
            "                                                                                                  \n",
            " max_pooling1d (MaxPooling1D)   (None, 101, 16)      0           ['conv1d_1[0][0]']               \n",
            "                                                                                                  \n",
            " conv1d_2 (Conv1D)              (None, 101, 32)      2592        ['max_pooling1d[0][0]']          \n",
            "                                                                                                  \n",
            " conv1d_3 (Conv1D)              (None, 101, 32)      5152        ['conv1d_2[0][0]']               \n",
            "                                                                                                  \n",
            " max_pooling1d_1 (MaxPooling1D)  (None, 51, 32)      0           ['conv1d_3[0][0]']               \n",
            "                                                                                                  \n",
            " conv1d_4 (Conv1D)              (None, 51, 64)       10304       ['max_pooling1d_1[0][0]']        \n",
            "                                                                                                  \n",
            " conv1d_5 (Conv1D)              (None, 51, 64)       20544       ['conv1d_4[0][0]']               \n",
            "                                                                                                  \n",
            " max_pooling1d_2 (MaxPooling1D)  (None, 26, 64)      0           ['conv1d_5[0][0]']               \n",
            "                                                                                                  \n",
            " input_2 (InputLayer)           [(None, 61, 1)]      0           []                               \n",
            "                                                                                                  \n",
            " conv1d_6 (Conv1D)              (None, 26, 128)      41088       ['max_pooling1d_2[0][0]']        \n",
            "                                                                                                  \n",
            " conv1d_10 (Conv1D)             (None, 61, 16)       96          ['input_2[0][0]']                \n",
            "                                                                                                  \n",
            " conv1d_7 (Conv1D)              (None, 26, 128)      82048       ['conv1d_6[0][0]']               \n",
            "                                                                                                  \n",
            " conv1d_11 (Conv1D)             (None, 61, 16)       1296        ['conv1d_10[0][0]']              \n",
            "                                                                                                  \n",
            " max_pooling1d_3 (MaxPooling1D)  (None, 13, 128)     0           ['conv1d_7[0][0]']               \n",
            "                                                                                                  \n",
            " max_pooling1d_5 (MaxPooling1D)  (None, 31, 16)      0           ['conv1d_11[0][0]']              \n",
            "                                                                                                  \n",
            " conv1d_8 (Conv1D)              (None, 13, 256)      164096      ['max_pooling1d_3[0][0]']        \n",
            "                                                                                                  \n",
            " conv1d_12 (Conv1D)             (None, 31, 32)       2592        ['max_pooling1d_5[0][0]']        \n",
            "                                                                                                  \n",
            " conv1d_9 (Conv1D)              (None, 13, 256)      327936      ['conv1d_8[0][0]']               \n",
            "                                                                                                  \n",
            " conv1d_13 (Conv1D)             (None, 31, 32)       5152        ['conv1d_12[0][0]']              \n",
            "                                                                                                  \n",
            " max_pooling1d_4 (MaxPooling1D)  (None, 7, 256)      0           ['conv1d_9[0][0]']               \n",
            "                                                                                                  \n",
            " max_pooling1d_6 (MaxPooling1D)  (None, 16, 32)      0           ['conv1d_13[0][0]']              \n",
            "                                                                                                  \n",
            " tf.reshape (TFOpLambda)        (None, 1792)         0           ['max_pooling1d_4[0][0]']        \n",
            "                                                                                                  \n",
            " tf.reshape_1 (TFOpLambda)      (None, 512)          0           ['max_pooling1d_6[0][0]']        \n",
            "                                                                                                  \n",
            " concatenate (Concatenate)      (None, 2304)         0           ['tf.reshape[0][0]',             \n",
            "                                                                  'tf.reshape_1[0][0]']           \n",
            "                                                                                                  \n",
            " dense (Dense)                  (None, 512)          1180160     ['concatenate[0][0]']            \n",
            "                                                                                                  \n",
            " dense_1 (Dense)                (None, 512)          262656      ['dense[0][0]']                  \n",
            "                                                                                                  \n",
            " dense_2 (Dense)                (None, 512)          262656      ['dense_1[0][0]']                \n",
            "                                                                                                  \n",
            " dense_3 (Dense)                (None, 512)          262656      ['dense_2[0][0]']                \n",
            "                                                                                                  \n",
            " dense_4 (Dense)                (None, 1)            513         ['dense_3[0][0]']                \n",
            "                                                                                                  \n",
            "==================================================================================================\n",
            "Total params: 2,632,929\n",
            "Trainable params: 2,632,929\n",
            "Non-trainable params: 0\n",
            "__________________________________________________________________________________________________\n"
          ]
        }
      ]
    },
    {
      "cell_type": "code",
      "source": [
        "history = full_model.fit(\n",
        "    [x_train_1,\n",
        "    x_train_2], y_train,\n",
        "    batch_size=64,\n",
        "    epochs=65, validation_data=([x_val_1, x_val_2], y_val))"
      ],
      "metadata": {
        "id": "72CmNqPbRR0e",
        "colab": {
          "base_uri": "https://localhost:8080/"
        },
        "outputId": "087f6d57-6fbf-45a5-d86d-54a5c40668e3"
      },
      "execution_count": null,
      "outputs": [
        {
          "output_type": "stream",
          "name": "stdout",
          "text": [
            "Epoch 1/65\n",
            "207/207 [==============================] - 17s 27ms/step - loss: 0.3581 - accuracy: 0.8315 - val_loss: 0.2177 - val_accuracy: 0.9221\n",
            "Epoch 2/65\n",
            "207/207 [==============================] - 4s 22ms/step - loss: 0.2046 - accuracy: 0.9219 - val_loss: 0.1802 - val_accuracy: 0.9348\n",
            "Epoch 3/65\n",
            "207/207 [==============================] - 4s 22ms/step - loss: 0.1601 - accuracy: 0.9398 - val_loss: 0.1492 - val_accuracy: 0.9445\n",
            "Epoch 4/65\n",
            "207/207 [==============================] - 5s 22ms/step - loss: 0.1412 - accuracy: 0.9486 - val_loss: 0.1303 - val_accuracy: 0.9463\n",
            "Epoch 5/65\n",
            "207/207 [==============================] - 6s 28ms/step - loss: 0.1317 - accuracy: 0.9521 - val_loss: 0.1245 - val_accuracy: 0.9493\n",
            "Epoch 6/65\n",
            "207/207 [==============================] - 4s 22ms/step - loss: 0.1267 - accuracy: 0.9535 - val_loss: 0.1225 - val_accuracy: 0.9517\n",
            "Epoch 7/65\n",
            "207/207 [==============================] - 5s 22ms/step - loss: 0.1200 - accuracy: 0.9569 - val_loss: 0.1382 - val_accuracy: 0.9475\n",
            "Epoch 8/65\n",
            "207/207 [==============================] - 5s 22ms/step - loss: 0.1178 - accuracy: 0.9573 - val_loss: 0.1272 - val_accuracy: 0.9535\n",
            "Epoch 9/65\n",
            "207/207 [==============================] - 5s 22ms/step - loss: 0.1153 - accuracy: 0.9596 - val_loss: 0.1226 - val_accuracy: 0.9523\n",
            "Epoch 10/65\n",
            "207/207 [==============================] - 5s 23ms/step - loss: 0.1131 - accuracy: 0.9614 - val_loss: 0.1256 - val_accuracy: 0.9523\n",
            "Epoch 11/65\n",
            "207/207 [==============================] - 4s 22ms/step - loss: 0.1103 - accuracy: 0.9614 - val_loss: 0.1394 - val_accuracy: 0.9493\n",
            "Epoch 12/65\n",
            "207/207 [==============================] - 4s 21ms/step - loss: 0.1090 - accuracy: 0.9615 - val_loss: 0.1183 - val_accuracy: 0.9553\n",
            "Epoch 13/65\n",
            "207/207 [==============================] - 4s 22ms/step - loss: 0.1094 - accuracy: 0.9620 - val_loss: 0.1203 - val_accuracy: 0.9541\n",
            "Epoch 14/65\n",
            "207/207 [==============================] - 5s 22ms/step - loss: 0.1051 - accuracy: 0.9636 - val_loss: 0.1413 - val_accuracy: 0.9469\n",
            "Epoch 15/65\n",
            "207/207 [==============================] - 4s 21ms/step - loss: 0.1052 - accuracy: 0.9632 - val_loss: 0.1162 - val_accuracy: 0.9559\n",
            "Epoch 16/65\n",
            "207/207 [==============================] - 4s 22ms/step - loss: 0.1023 - accuracy: 0.9645 - val_loss: 0.1284 - val_accuracy: 0.9511\n",
            "Epoch 17/65\n",
            "207/207 [==============================] - 4s 21ms/step - loss: 0.1018 - accuracy: 0.9642 - val_loss: 0.1240 - val_accuracy: 0.9535\n",
            "Epoch 18/65\n",
            "207/207 [==============================] - 4s 21ms/step - loss: 0.1008 - accuracy: 0.9641 - val_loss: 0.1375 - val_accuracy: 0.9493\n",
            "Epoch 19/65\n",
            "207/207 [==============================] - 4s 22ms/step - loss: 0.0980 - accuracy: 0.9652 - val_loss: 0.1161 - val_accuracy: 0.9572\n",
            "Epoch 20/65\n",
            "207/207 [==============================] - 4s 22ms/step - loss: 0.0984 - accuracy: 0.9637 - val_loss: 0.1224 - val_accuracy: 0.9529\n",
            "Epoch 21/65\n",
            "207/207 [==============================] - 5s 24ms/step - loss: 0.0971 - accuracy: 0.9649 - val_loss: 0.1296 - val_accuracy: 0.9511\n",
            "Epoch 22/65\n",
            "207/207 [==============================] - 4s 22ms/step - loss: 0.0958 - accuracy: 0.9652 - val_loss: 0.1455 - val_accuracy: 0.9463\n",
            "Epoch 23/65\n",
            "207/207 [==============================] - 5s 22ms/step - loss: 0.0942 - accuracy: 0.9675 - val_loss: 0.1628 - val_accuracy: 0.9451\n",
            "Epoch 24/65\n",
            "207/207 [==============================] - 5s 22ms/step - loss: 0.0924 - accuracy: 0.9667 - val_loss: 0.1297 - val_accuracy: 0.9505\n",
            "Epoch 25/65\n",
            "207/207 [==============================] - 5s 22ms/step - loss: 0.0927 - accuracy: 0.9669 - val_loss: 0.1474 - val_accuracy: 0.9481\n",
            "Epoch 26/65\n",
            "207/207 [==============================] - 5s 23ms/step - loss: 0.0901 - accuracy: 0.9674 - val_loss: 0.1093 - val_accuracy: 0.9572\n",
            "Epoch 27/65\n",
            "207/207 [==============================] - 5s 22ms/step - loss: 0.0901 - accuracy: 0.9679 - val_loss: 0.1315 - val_accuracy: 0.9523\n",
            "Epoch 28/65\n",
            "207/207 [==============================] - 5s 22ms/step - loss: 0.0889 - accuracy: 0.9681 - val_loss: 0.1411 - val_accuracy: 0.9505\n",
            "Epoch 29/65\n",
            "207/207 [==============================] - 5s 22ms/step - loss: 0.0880 - accuracy: 0.9680 - val_loss: 0.1147 - val_accuracy: 0.9572\n",
            "Epoch 30/65\n",
            "207/207 [==============================] - 5s 22ms/step - loss: 0.0862 - accuracy: 0.9674 - val_loss: 0.1290 - val_accuracy: 0.9535\n",
            "Epoch 31/65\n",
            "207/207 [==============================] - 5s 22ms/step - loss: 0.0850 - accuracy: 0.9684 - val_loss: 0.1187 - val_accuracy: 0.9565\n",
            "Epoch 32/65\n",
            "207/207 [==============================] - 5s 23ms/step - loss: 0.0868 - accuracy: 0.9689 - val_loss: 0.1096 - val_accuracy: 0.9572\n",
            "Epoch 33/65\n",
            "207/207 [==============================] - 5s 22ms/step - loss: 0.0829 - accuracy: 0.9691 - val_loss: 0.1258 - val_accuracy: 0.9541\n",
            "Epoch 34/65\n",
            "207/207 [==============================] - 5s 22ms/step - loss: 0.0821 - accuracy: 0.9699 - val_loss: 0.1329 - val_accuracy: 0.9535\n",
            "Epoch 35/65\n",
            "207/207 [==============================] - 5s 22ms/step - loss: 0.0794 - accuracy: 0.9705 - val_loss: 0.1415 - val_accuracy: 0.9499\n",
            "Epoch 36/65\n",
            "207/207 [==============================] - 5s 23ms/step - loss: 0.0798 - accuracy: 0.9705 - val_loss: 0.1267 - val_accuracy: 0.9559\n",
            "Epoch 37/65\n",
            "207/207 [==============================] - 5s 23ms/step - loss: 0.0782 - accuracy: 0.9702 - val_loss: 0.1336 - val_accuracy: 0.9547\n",
            "Epoch 38/65\n",
            "207/207 [==============================] - 5s 23ms/step - loss: 0.0778 - accuracy: 0.9702 - val_loss: 0.1145 - val_accuracy: 0.9559\n",
            "Epoch 39/65\n",
            "207/207 [==============================] - 5s 22ms/step - loss: 0.0778 - accuracy: 0.9711 - val_loss: 0.1339 - val_accuracy: 0.9553\n",
            "Epoch 40/65\n",
            "207/207 [==============================] - 5s 23ms/step - loss: 0.0772 - accuracy: 0.9711 - val_loss: 0.1294 - val_accuracy: 0.9541\n",
            "Epoch 41/65\n",
            "207/207 [==============================] - 5s 22ms/step - loss: 0.0742 - accuracy: 0.9724 - val_loss: 0.1345 - val_accuracy: 0.9535\n",
            "Epoch 42/65\n",
            "207/207 [==============================] - 5s 22ms/step - loss: 0.0722 - accuracy: 0.9724 - val_loss: 0.1431 - val_accuracy: 0.9553\n",
            "Epoch 43/65\n",
            "207/207 [==============================] - 5s 23ms/step - loss: 0.0732 - accuracy: 0.9723 - val_loss: 0.1345 - val_accuracy: 0.9559\n",
            "Epoch 44/65\n",
            "207/207 [==============================] - 5s 22ms/step - loss: 0.0725 - accuracy: 0.9724 - val_loss: 0.1307 - val_accuracy: 0.9565\n",
            "Epoch 45/65\n",
            "207/207 [==============================] - 5s 22ms/step - loss: 0.0704 - accuracy: 0.9743 - val_loss: 0.1303 - val_accuracy: 0.9541\n",
            "Epoch 46/65\n",
            "207/207 [==============================] - 5s 22ms/step - loss: 0.0696 - accuracy: 0.9747 - val_loss: 0.1524 - val_accuracy: 0.9529\n",
            "Epoch 47/65\n",
            "207/207 [==============================] - 5s 23ms/step - loss: 0.0675 - accuracy: 0.9745 - val_loss: 0.1604 - val_accuracy: 0.9523\n",
            "Epoch 48/65\n",
            "207/207 [==============================] - 5s 22ms/step - loss: 0.0697 - accuracy: 0.9729 - val_loss: 0.1369 - val_accuracy: 0.9547\n",
            "Epoch 49/65\n",
            "207/207 [==============================] - 5s 22ms/step - loss: 0.0667 - accuracy: 0.9736 - val_loss: 0.1319 - val_accuracy: 0.9535\n",
            "Epoch 50/65\n",
            "207/207 [==============================] - 5s 23ms/step - loss: 0.0677 - accuracy: 0.9740 - val_loss: 0.1317 - val_accuracy: 0.9541\n",
            "Epoch 51/65\n",
            "207/207 [==============================] - 5s 23ms/step - loss: 0.0642 - accuracy: 0.9749 - val_loss: 0.1743 - val_accuracy: 0.9499\n",
            "Epoch 52/65\n",
            "207/207 [==============================] - 5s 22ms/step - loss: 0.0619 - accuracy: 0.9770 - val_loss: 0.1453 - val_accuracy: 0.9547\n",
            "Epoch 53/65\n",
            "207/207 [==============================] - 5s 22ms/step - loss: 0.0615 - accuracy: 0.9764 - val_loss: 0.1756 - val_accuracy: 0.9493\n",
            "Epoch 54/65\n",
            "207/207 [==============================] - 5s 23ms/step - loss: 0.0629 - accuracy: 0.9767 - val_loss: 0.1450 - val_accuracy: 0.9547\n",
            "Epoch 55/65\n",
            "207/207 [==============================] - 5s 22ms/step - loss: 0.0662 - accuracy: 0.9771 - val_loss: 0.1335 - val_accuracy: 0.9584\n",
            "Epoch 56/65\n",
            "207/207 [==============================] - 5s 23ms/step - loss: 0.0597 - accuracy: 0.9770 - val_loss: 0.1231 - val_accuracy: 0.9584\n",
            "Epoch 57/65\n",
            "207/207 [==============================] - 5s 23ms/step - loss: 0.0571 - accuracy: 0.9782 - val_loss: 0.1275 - val_accuracy: 0.9547\n",
            "Epoch 58/65\n",
            "207/207 [==============================] - 5s 23ms/step - loss: 0.0567 - accuracy: 0.9787 - val_loss: 0.1498 - val_accuracy: 0.9553\n",
            "Epoch 59/65\n",
            "207/207 [==============================] - 5s 23ms/step - loss: 0.0552 - accuracy: 0.9786 - val_loss: 0.1213 - val_accuracy: 0.9553\n",
            "Epoch 60/65\n",
            "207/207 [==============================] - 5s 23ms/step - loss: 0.0552 - accuracy: 0.9789 - val_loss: 0.1299 - val_accuracy: 0.9572\n",
            "Epoch 61/65\n",
            "207/207 [==============================] - 5s 23ms/step - loss: 0.0539 - accuracy: 0.9802 - val_loss: 0.1383 - val_accuracy: 0.9565\n",
            "Epoch 62/65\n",
            "207/207 [==============================] - 5s 23ms/step - loss: 0.0511 - accuracy: 0.9806 - val_loss: 0.1372 - val_accuracy: 0.9553\n",
            "Epoch 63/65\n",
            "207/207 [==============================] - 5s 22ms/step - loss: 0.0531 - accuracy: 0.9801 - val_loss: 0.1188 - val_accuracy: 0.9584\n",
            "Epoch 64/65\n",
            "207/207 [==============================] - 5s 23ms/step - loss: 0.0517 - accuracy: 0.9819 - val_loss: 0.1398 - val_accuracy: 0.9584\n",
            "Epoch 65/65\n",
            "207/207 [==============================] - 5s 23ms/step - loss: 0.0494 - accuracy: 0.9817 - val_loss: 0.1390 - val_accuracy: 0.9572\n"
          ]
        }
      ]
    },
    {
      "cell_type": "code",
      "source": [
        "full_model.evaluate([x_test_1, x_test_2],  y_test, verbose=2)\n",
        "\n",
        "plt.plot(history.history['accuracy'], label='accuracy')\n",
        "plt.plot(history.history['val_accuracy'], label = 'val_accuracy')\n",
        "plt.xlabel('Epoch')\n",
        "plt.ylabel('Accuracy')\n",
        "plt.ylim([0.5, 1])\n",
        "plt.legend(loc='lower right')\n",
        "plt.savefig(\"acc_exp1.png\")\n",
        "\n",
        "pred =full_model.predict([x_test_1, x_test_2], y_test.all())\n",
        "np.save(\"pred_exp1.npy\", pred)"
      ],
      "metadata": {
        "id": "VIcIaHB5RRtG",
        "colab": {
          "base_uri": "https://localhost:8080/",
          "height": 300
        },
        "outputId": "d4f77311-9695-4cbc-ba51-e20ed030c8e7"
      },
      "execution_count": null,
      "outputs": [
        {
          "output_type": "stream",
          "name": "stdout",
          "text": [
            "52/52 - 1s - loss: 0.1088 - accuracy: 0.9626 - 631ms/epoch - 12ms/step\n"
          ]
        },
        {
          "output_type": "display_data",
          "data": {
            "image/png": "[encoded data removed]",
            "text/plain": [
              "<Figure size 432x288 with 1 Axes>"
            ]
          },
          "metadata": {
            "needs_background": "light"
          }
        }
      ]
    },
    {
      "cell_type": "code",
      "source": [
        "print(classification_report(y_test, np.round(pred)))"
      ],
      "metadata": {
        "id": "q-n2QeJCRRpA",
        "colab": {
          "base_uri": "https://localhost:8080/"
        },
        "outputId": "08065708-68ce-49c1-9f0b-89c23bdaf9cf"
      },
      "execution_count": null,
      "outputs": [
        {
          "output_type": "stream",
          "name": "stdout",
          "text": [
            "              precision    recall  f1-score   support\n",
            "\n",
            "           0       0.97      0.99      0.98      1379\n",
            "           1       0.94      0.83      0.88       279\n",
            "\n",
            "    accuracy                           0.96      1658\n",
            "   macro avg       0.95      0.91      0.93      1658\n",
            "weighted avg       0.96      0.96      0.96      1658\n",
            "\n"
          ]
        }
      ]
    },
    {
      "cell_type": "code",
      "source": [
        "cm = confusion_matrix(y_test, np.round(pred))\n",
        "plt.imshow(cm)"
      ],
      "metadata": {
        "id": "a7OV3rzjRRkY",
        "colab": {
          "base_uri": "https://localhost:8080/",
          "height": 286
        },
        "outputId": "7a7d158e-228f-44c6-955c-7082a214d065"
      },
      "execution_count": null,
      "outputs": [
        {
          "output_type": "execute_result",
          "data": {
            "text/plain": [
              "<matplotlib.image.AxesImage at 0x7fba30cefc10>"
            ]
          },
          "metadata": {},
          "execution_count": 30
        },
        {
          "output_type": "display_data",
          "data": {
            "image/png": "[encoded data removed]",
            "text/plain": [
              "<Figure size 432x288 with 1 Axes>"
            ]
          },
          "metadata": {
            "needs_background": "light"
          }
        }
      ]
    },
    {
      "cell_type": "code",
      "source": [
        ""
      ],
      "metadata": {
        "id": "4X9o23RXRRgN"
      },
      "execution_count": null,
      "outputs": []
    },
    {
      "cell_type": "markdown",
      "source": [
        "## Experiment - 2 (Gaussian Noise)"
      ],
      "metadata": {
        "id": "xPgQhgrdLSXT"
      }
    },
    {
      "cell_type": "code",
      "source": [
        "noise_1 = np.random.normal(0, np.random.uniform(0.01, 0.15)*np.amax(x_train_1), x_train_1.shape)\n",
        "noise_2 =np.random.normal(0, np.random.uniform(0.01, 0.15)*np.amax(x_train_2), x_train_2.shape)\n",
        "\n",
        "x_train_1 = x_train_1 + noise_1\n",
        "x_train_2 = x_train_2 + noise_2\n",
        "\n",
        "x_train_1 = x_train_1.reshape((13201, 201, 1))\n",
        "x_train_2 = x_train_2.reshape((13201, 61, 1))\n",
        "\n",
        "x_test_1 = x_test_1.reshape((1658, 201, 1))\n",
        "x_test_2 = x_test_2.reshape((1658, 61, 1))\n",
        "\n",
        "x_val_1 = x_val_1.reshape((1657, 201, 1))\n",
        "x_val_2 = x_val_2.reshape((1657, 61, 1))"
      ],
      "metadata": {
        "id": "fRm5leSMRRa2"
      },
      "execution_count": null,
      "outputs": []
    },
    {
      "cell_type": "code",
      "source": [
        "##model\n",
        "input_1 = tf.keras.layers.Input(shape=(201, 1))\n",
        "\n",
        "x = tf.keras.layers.Conv1D(16, 5, activation='relu', padding='same')(input_1)\n",
        "x = tf.keras.layers.Conv1D(16, 5, activation='relu', padding='same')(x)\n",
        "x = tf.keras.layers.MaxPool1D(5, 2, padding='same')(x)\n",
        "x = tf.keras.layers.Conv1D(32, 5, activation='relu', padding='same')(x)\n",
        "x = tf.keras.layers.Conv1D(32, 5, activation='relu', padding='same')(x)\n",
        "x = tf.keras.layers.MaxPool1D(5, 2, padding='same')(x)\n",
        "x = tf.keras.layers.Conv1D(64, 5, activation='relu', padding='same')(x)\n",
        "x = tf.keras.layers.Conv1D(64, 5, activation='relu', padding='same')(x)\n",
        "x = tf.keras.layers.MaxPool1D(5, 2, padding='same')(x)\n",
        "x = tf.keras.layers.Conv1D(128, 5, activation='relu', padding='same')(x)\n",
        "x = tf.keras.layers.Conv1D(128, 5, activation='relu', padding='same')(x)\n",
        "x = tf.keras.layers.MaxPool1D(5, 2, padding='same')(x)\n",
        "x = tf.keras.layers.Conv1D(256, 5, activation='relu', padding='same')(x)\n",
        "x = tf.keras.layers.Conv1D(256, 5, activation='relu', padding='same')(x)\n",
        "x = tf.keras.layers.MaxPool1D(5, 2, padding='same')(x)\n",
        "\n",
        "x.get_shape().assert_has_rank(3)\n",
        "net_shape = x.get_shape().as_list()\n",
        "output_dim = net_shape[1] * net_shape[2]\n",
        "x = tf.reshape(x, [-1, output_dim], name=\"flatten\")\n",
        "\n",
        "\n",
        "input_2 = tf.keras.layers.Input(shape=(61, 1))\n",
        "y = tf.keras.layers.Conv1D(16, 5, activation='relu', padding='same')(input_2)\n",
        "y = tf.keras.layers.Conv1D(16, 5, activation='relu', padding='same')(y)\n",
        "y = tf.keras.layers.MaxPool1D(7, 2, padding='same')(y)\n",
        "y = tf.keras.layers.Conv1D(32, 5, activation='relu', padding='same')(y) \n",
        "y = tf.keras.layers.Conv1D(32, 5, activation='relu', padding='same')(y)\n",
        "y = tf.keras.layers.MaxPool1D(7, 2, padding='same')(y)\n",
        "\n",
        "y.get_shape().assert_has_rank(3)\n",
        "net_shape = y.get_shape().as_list()\n",
        "output_dim = net_shape[1] * net_shape[2]\n",
        "y = tf.reshape(y, [-1, output_dim], name=\"flatten\")\n",
        "\n",
        "concat = tf.keras.layers.Concatenate(axis = -1)([x, y])\n",
        "\n",
        "output = tf.keras.layers.Dense(512)(concat)\n",
        "output = tf.keras.layers.Dense(512)(output)\n",
        "output = tf.keras.layers.Dense(512)(output)\n",
        "output = tf.keras.layers.Dense(512)(output)\n",
        "output = tf.keras.layers.Dense(1, activation = \"sigmoid\")(output)\n",
        "\n",
        "full_model = tf.keras.Model(inputs=[input_1, input_2], outputs=[output])\n",
        "\n",
        "full_model.summary()\n",
        "\n",
        "full_model.compile(tf.keras.optimizers.Adam(learning_rate=1e-05, beta_1=0.9, beta_2=0.999, epsilon=1e-08),\n",
        "              loss=tf.keras.losses.BinaryCrossentropy(from_logits=False),\n",
        "              metrics=[\"accuracy\"])"
      ],
      "metadata": {
        "id": "J4WNokk6RRXx",
        "colab": {
          "base_uri": "https://localhost:8080/"
        },
        "outputId": "30567ff5-452c-43a0-90dd-ea97c73805e1"
      },
      "execution_count": null,
      "outputs": [
        {
          "output_type": "stream",
          "name": "stdout",
          "text": [
            "Model: \"model\"\n",
            "__________________________________________________________________________________________________\n",
            " Layer (type)                   Output Shape         Param #     Connected to                     \n",
            "==================================================================================================\n",
            " input_1 (InputLayer)           [(None, 201, 1)]     0           []                               \n",
            "                                                                                                  \n",
            " conv1d (Conv1D)                (None, 201, 16)      96          ['input_1[0][0]']                \n",
            "                                                                                                  \n",
            " conv1d_1 (Conv1D)              (None, 201, 16)      1296        ['conv1d[0][0]']                 \n",
            "                                                                                                  \n",
            " max_pooling1d (MaxPooling1D)   (None, 101, 16)      0           ['conv1d_1[0][0]']               \n",
            "                                                                                                  \n",
            " conv1d_2 (Conv1D)              (None, 101, 32)      2592        ['max_pooling1d[0][0]']          \n",
            "                                                                                                  \n",
            " conv1d_3 (Conv1D)              (None, 101, 32)      5152        ['conv1d_2[0][0]']               \n",
            "                                                                                                  \n",
            " max_pooling1d_1 (MaxPooling1D)  (None, 51, 32)      0           ['conv1d_3[0][0]']               \n",
            "                                                                                                  \n",
            " conv1d_4 (Conv1D)              (None, 51, 64)       10304       ['max_pooling1d_1[0][0]']        \n",
            "                                                                                                  \n",
            " conv1d_5 (Conv1D)              (None, 51, 64)       20544       ['conv1d_4[0][0]']               \n",
            "                                                                                                  \n",
            " max_pooling1d_2 (MaxPooling1D)  (None, 26, 64)      0           ['conv1d_5[0][0]']               \n",
            "                                                                                                  \n",
            " input_2 (InputLayer)           [(None, 61, 1)]      0           []                               \n",
            "                                                                                                  \n",
            " conv1d_6 (Conv1D)              (None, 26, 128)      41088       ['max_pooling1d_2[0][0]']        \n",
            "                                                                                                  \n",
            " conv1d_10 (Conv1D)             (None, 61, 16)       96          ['input_2[0][0]']                \n",
            "                                                                                                  \n",
            " conv1d_7 (Conv1D)              (None, 26, 128)      82048       ['conv1d_6[0][0]']               \n",
            "                                                                                                  \n",
            " conv1d_11 (Conv1D)             (None, 61, 16)       1296        ['conv1d_10[0][0]']              \n",
            "                                                                                                  \n",
            " max_pooling1d_3 (MaxPooling1D)  (None, 13, 128)     0           ['conv1d_7[0][0]']               \n",
            "                                                                                                  \n",
            " max_pooling1d_5 (MaxPooling1D)  (None, 31, 16)      0           ['conv1d_11[0][0]']              \n",
            "                                                                                                  \n",
            " conv1d_8 (Conv1D)              (None, 13, 256)      164096      ['max_pooling1d_3[0][0]']        \n",
            "                                                                                                  \n",
            " conv1d_12 (Conv1D)             (None, 31, 32)       2592        ['max_pooling1d_5[0][0]']        \n",
            "                                                                                                  \n",
            " conv1d_9 (Conv1D)              (None, 13, 256)      327936      ['conv1d_8[0][0]']               \n",
            "                                                                                                  \n",
            " conv1d_13 (Conv1D)             (None, 31, 32)       5152        ['conv1d_12[0][0]']              \n",
            "                                                                                                  \n",
            " max_pooling1d_4 (MaxPooling1D)  (None, 7, 256)      0           ['conv1d_9[0][0]']               \n",
            "                                                                                                  \n",
            " max_pooling1d_6 (MaxPooling1D)  (None, 16, 32)      0           ['conv1d_13[0][0]']              \n",
            "                                                                                                  \n",
            " tf.reshape (TFOpLambda)        (None, 1792)         0           ['max_pooling1d_4[0][0]']        \n",
            "                                                                                                  \n",
            " tf.reshape_1 (TFOpLambda)      (None, 512)          0           ['max_pooling1d_6[0][0]']        \n",
            "                                                                                                  \n",
            " concatenate (Concatenate)      (None, 2304)         0           ['tf.reshape[0][0]',             \n",
            "                                                                  'tf.reshape_1[0][0]']           \n",
            "                                                                                                  \n",
            " dense (Dense)                  (None, 512)          1180160     ['concatenate[0][0]']            \n",
            "                                                                                                  \n",
            " dense_1 (Dense)                (None, 512)          262656      ['dense[0][0]']                  \n",
            "                                                                                                  \n",
            " dense_2 (Dense)                (None, 512)          262656      ['dense_1[0][0]']                \n",
            "                                                                                                  \n",
            " dense_3 (Dense)                (None, 512)          262656      ['dense_2[0][0]']                \n",
            "                                                                                                  \n",
            " dense_4 (Dense)                (None, 1)            513         ['dense_3[0][0]']                \n",
            "                                                                                                  \n",
            "==================================================================================================\n",
            "Total params: 2,632,929\n",
            "Trainable params: 2,632,929\n",
            "Non-trainable params: 0\n",
            "__________________________________________________________________________________________________\n"
          ]
        }
      ]
    },
    {
      "cell_type": "code",
      "source": [
        "history = full_model.fit(\n",
        "    [x_train_1,\n",
        "    x_train_2], y_train,\n",
        "    batch_size=64,\n",
        "    epochs=65, validation_data=([x_val_1, x_val_2], y_val))"
      ],
      "metadata": {
        "colab": {
          "base_uri": "https://localhost:8080/"
        },
        "id": "kIVjjph6MO0Q",
        "outputId": "8ce42af4-69ca-4a5d-d8e7-a5f7ee62446c"
      },
      "execution_count": null,
      "outputs": [
        {
          "output_type": "stream",
          "name": "stdout",
          "text": [
            "Epoch 1/65\n",
            "207/207 [==============================] - 11s 29ms/step - loss: 0.4335 - accuracy: 0.8377 - val_loss: 0.4786 - val_accuracy: 0.8630\n",
            "Epoch 2/65\n",
            "207/207 [==============================] - 5s 23ms/step - loss: 0.3420 - accuracy: 0.8413 - val_loss: 0.3231 - val_accuracy: 0.8865\n",
            "Epoch 3/65\n",
            "207/207 [==============================] - 5s 22ms/step - loss: 0.3219 - accuracy: 0.8483 - val_loss: 0.3083 - val_accuracy: 0.9028\n",
            "Epoch 4/65\n",
            "207/207 [==============================] - 5s 22ms/step - loss: 0.3105 - accuracy: 0.8538 - val_loss: 0.3025 - val_accuracy: 0.8853\n",
            "Epoch 5/65\n",
            "207/207 [==============================] - 5s 25ms/step - loss: 0.2922 - accuracy: 0.8658 - val_loss: 0.3075 - val_accuracy: 0.8413\n",
            "Epoch 6/65\n",
            "207/207 [==============================] - 5s 23ms/step - loss: 0.2758 - accuracy: 0.8781 - val_loss: 0.3247 - val_accuracy: 0.8214\n",
            "Epoch 7/65\n",
            "207/207 [==============================] - 5s 22ms/step - loss: 0.2618 - accuracy: 0.8867 - val_loss: 0.3249 - val_accuracy: 0.8189\n",
            "Epoch 8/65\n",
            "207/207 [==============================] - 5s 22ms/step - loss: 0.2567 - accuracy: 0.8891 - val_loss: 0.3340 - val_accuracy: 0.8117\n",
            "Epoch 9/65\n",
            "207/207 [==============================] - 5s 23ms/step - loss: 0.2498 - accuracy: 0.8915 - val_loss: 0.3576 - val_accuracy: 0.7936\n",
            "Epoch 10/65\n",
            "207/207 [==============================] - 5s 23ms/step - loss: 0.2466 - accuracy: 0.8935 - val_loss: 0.3819 - val_accuracy: 0.7846\n",
            "Epoch 11/65\n",
            "207/207 [==============================] - 5s 23ms/step - loss: 0.2426 - accuracy: 0.8958 - val_loss: 0.3766 - val_accuracy: 0.7906\n",
            "Epoch 12/65\n",
            "207/207 [==============================] - 6s 28ms/step - loss: 0.2415 - accuracy: 0.8949 - val_loss: 0.3825 - val_accuracy: 0.7846\n",
            "Epoch 13/65\n",
            "207/207 [==============================] - 5s 22ms/step - loss: 0.2371 - accuracy: 0.8960 - val_loss: 0.4301 - val_accuracy: 0.7574\n",
            "Epoch 14/65\n",
            "207/207 [==============================] - 5s 23ms/step - loss: 0.2363 - accuracy: 0.8984 - val_loss: 0.4837 - val_accuracy: 0.7200\n",
            "Epoch 15/65\n",
            "207/207 [==============================] - 5s 22ms/step - loss: 0.2334 - accuracy: 0.8992 - val_loss: 0.4601 - val_accuracy: 0.7369\n",
            "Epoch 16/65\n",
            "207/207 [==============================] - 5s 23ms/step - loss: 0.2360 - accuracy: 0.8982 - val_loss: 0.4989 - val_accuracy: 0.7079\n",
            "Epoch 17/65\n",
            "207/207 [==============================] - 5s 23ms/step - loss: 0.2277 - accuracy: 0.8982 - val_loss: 0.4686 - val_accuracy: 0.7290\n",
            "Epoch 18/65\n",
            "207/207 [==============================] - 9s 41ms/step - loss: 0.2271 - accuracy: 0.8988 - val_loss: 0.4970 - val_accuracy: 0.7164\n",
            "Epoch 19/65\n",
            "207/207 [==============================] - 7s 34ms/step - loss: 0.2237 - accuracy: 0.9017 - val_loss: 0.4830 - val_accuracy: 0.7212\n",
            "Epoch 20/65\n",
            "207/207 [==============================] - 5s 23ms/step - loss: 0.2243 - accuracy: 0.8980 - val_loss: 0.4999 - val_accuracy: 0.7115\n",
            "Epoch 21/65\n",
            "207/207 [==============================] - 5s 23ms/step - loss: 0.2226 - accuracy: 0.9029 - val_loss: 0.5501 - val_accuracy: 0.6928\n",
            "Epoch 22/65\n",
            "207/207 [==============================] - 5s 23ms/step - loss: 0.2198 - accuracy: 0.9011 - val_loss: 0.5888 - val_accuracy: 0.6735\n",
            "Epoch 23/65\n",
            "207/207 [==============================] - 5s 23ms/step - loss: 0.2166 - accuracy: 0.9032 - val_loss: 0.5406 - val_accuracy: 0.6982\n",
            "Epoch 24/65\n",
            "207/207 [==============================] - 5s 23ms/step - loss: 0.2145 - accuracy: 0.9049 - val_loss: 0.5919 - val_accuracy: 0.6789\n",
            "Epoch 25/65\n",
            "207/207 [==============================] - 5s 22ms/step - loss: 0.2120 - accuracy: 0.9080 - val_loss: 0.6681 - val_accuracy: 0.6385\n",
            "Epoch 26/65\n",
            "207/207 [==============================] - 5s 23ms/step - loss: 0.2089 - accuracy: 0.9080 - val_loss: 0.6398 - val_accuracy: 0.6566\n",
            "Epoch 27/65\n",
            "207/207 [==============================] - 5s 23ms/step - loss: 0.2093 - accuracy: 0.9077 - val_loss: 0.7128 - val_accuracy: 0.6301\n",
            "Epoch 28/65\n",
            "207/207 [==============================] - 5s 23ms/step - loss: 0.2046 - accuracy: 0.9117 - val_loss: 0.6639 - val_accuracy: 0.6470\n",
            "Epoch 29/65\n",
            "207/207 [==============================] - 5s 23ms/step - loss: 0.2048 - accuracy: 0.9100 - val_loss: 0.8074 - val_accuracy: 0.5981\n",
            "Epoch 30/65\n",
            "207/207 [==============================] - 5s 23ms/step - loss: 0.2039 - accuracy: 0.9117 - val_loss: 0.7445 - val_accuracy: 0.6282\n",
            "Epoch 31/65\n",
            "207/207 [==============================] - 5s 22ms/step - loss: 0.1994 - accuracy: 0.9129 - val_loss: 0.7499 - val_accuracy: 0.6288\n",
            "Epoch 32/65\n",
            "207/207 [==============================] - 5s 22ms/step - loss: 0.2033 - accuracy: 0.9114 - val_loss: 0.7823 - val_accuracy: 0.6150\n",
            "Epoch 33/65\n",
            "207/207 [==============================] - 5s 23ms/step - loss: 0.1950 - accuracy: 0.9161 - val_loss: 0.8112 - val_accuracy: 0.6144\n",
            "Epoch 34/65\n",
            "207/207 [==============================] - 5s 22ms/step - loss: 0.1965 - accuracy: 0.9147 - val_loss: 0.8102 - val_accuracy: 0.6083\n",
            "Epoch 35/65\n",
            "207/207 [==============================] - 5s 23ms/step - loss: 0.1917 - accuracy: 0.9166 - val_loss: 0.8684 - val_accuracy: 0.5878\n",
            "Epoch 36/65\n",
            "207/207 [==============================] - 5s 23ms/step - loss: 0.1904 - accuracy: 0.9175 - val_loss: 0.9243 - val_accuracy: 0.5788\n",
            "Epoch 37/65\n",
            "207/207 [==============================] - 5s 23ms/step - loss: 0.1874 - accuracy: 0.9184 - val_loss: 1.0301 - val_accuracy: 0.5498\n",
            "Epoch 38/65\n",
            "207/207 [==============================] - 5s 23ms/step - loss: 0.1846 - accuracy: 0.9199 - val_loss: 1.0013 - val_accuracy: 0.5546\n",
            "Epoch 39/65\n",
            "207/207 [==============================] - 5s 23ms/step - loss: 0.1823 - accuracy: 0.9202 - val_loss: 0.9957 - val_accuracy: 0.5697\n",
            "Epoch 40/65\n",
            "207/207 [==============================] - 5s 26ms/step - loss: 0.1837 - accuracy: 0.9192 - val_loss: 0.9945 - val_accuracy: 0.5721\n",
            "Epoch 41/65\n",
            "207/207 [==============================] - 5s 23ms/step - loss: 0.1822 - accuracy: 0.9211 - val_loss: 1.0257 - val_accuracy: 0.5703\n",
            "Epoch 42/65\n",
            "207/207 [==============================] - 5s 23ms/step - loss: 0.1768 - accuracy: 0.9231 - val_loss: 1.1569 - val_accuracy: 0.5299\n",
            "Epoch 43/65\n",
            "207/207 [==============================] - 5s 23ms/step - loss: 0.1729 - accuracy: 0.9265 - val_loss: 1.1405 - val_accuracy: 0.5395\n",
            "Epoch 44/65\n",
            "207/207 [==============================] - 5s 23ms/step - loss: 0.1668 - accuracy: 0.9280 - val_loss: 1.0648 - val_accuracy: 0.5637\n",
            "Epoch 45/65\n",
            "207/207 [==============================] - 5s 22ms/step - loss: 0.1691 - accuracy: 0.9287 - val_loss: 1.1600 - val_accuracy: 0.5480\n",
            "Epoch 46/65\n",
            "207/207 [==============================] - 5s 23ms/step - loss: 0.1665 - accuracy: 0.9296 - val_loss: 1.0581 - val_accuracy: 0.5679\n",
            "Epoch 47/65\n",
            "207/207 [==============================] - 5s 23ms/step - loss: 0.1591 - accuracy: 0.9327 - val_loss: 1.2017 - val_accuracy: 0.5341\n",
            "Epoch 48/65\n",
            "207/207 [==============================] - 5s 23ms/step - loss: 0.1571 - accuracy: 0.9350 - val_loss: 1.3580 - val_accuracy: 0.5081\n",
            "Epoch 49/65\n",
            "207/207 [==============================] - 5s 23ms/step - loss: 0.1532 - accuracy: 0.9364 - val_loss: 1.3758 - val_accuracy: 0.5202\n",
            "Epoch 50/65\n",
            "207/207 [==============================] - 5s 23ms/step - loss: 0.1519 - accuracy: 0.9346 - val_loss: 1.3234 - val_accuracy: 0.5299\n",
            "Epoch 51/65\n",
            "207/207 [==============================] - 5s 23ms/step - loss: 0.1472 - accuracy: 0.9375 - val_loss: 1.4044 - val_accuracy: 0.5142\n",
            "Epoch 52/65\n",
            "207/207 [==============================] - 5s 23ms/step - loss: 0.1462 - accuracy: 0.9381 - val_loss: 1.5679 - val_accuracy: 0.4937\n",
            "Epoch 53/65\n",
            "207/207 [==============================] - 5s 23ms/step - loss: 0.1374 - accuracy: 0.9425 - val_loss: 1.5801 - val_accuracy: 0.5118\n",
            "Epoch 54/65\n",
            "207/207 [==============================] - 5s 24ms/step - loss: 0.1362 - accuracy: 0.9435 - val_loss: 1.6055 - val_accuracy: 0.5003\n",
            "Epoch 55/65\n",
            "207/207 [==============================] - 5s 23ms/step - loss: 0.1322 - accuracy: 0.9458 - val_loss: 1.4782 - val_accuracy: 0.5389\n",
            "Epoch 56/65\n",
            "207/207 [==============================] - 5s 23ms/step - loss: 0.1259 - accuracy: 0.9500 - val_loss: 1.5442 - val_accuracy: 0.5238\n",
            "Epoch 57/65\n",
            "207/207 [==============================] - 5s 23ms/step - loss: 0.1194 - accuracy: 0.9516 - val_loss: 1.7938 - val_accuracy: 0.4955\n",
            "Epoch 58/65\n",
            "207/207 [==============================] - 5s 23ms/step - loss: 0.1197 - accuracy: 0.9496 - val_loss: 1.7172 - val_accuracy: 0.5172\n",
            "Epoch 59/65\n",
            "207/207 [==============================] - 5s 24ms/step - loss: 0.1136 - accuracy: 0.9542 - val_loss: 1.8225 - val_accuracy: 0.5148\n",
            "Epoch 60/65\n",
            "207/207 [==============================] - 5s 23ms/step - loss: 0.1138 - accuracy: 0.9534 - val_loss: 2.0796 - val_accuracy: 0.4961\n",
            "Epoch 61/65\n",
            "207/207 [==============================] - 5s 23ms/step - loss: 0.1061 - accuracy: 0.9579 - val_loss: 1.8598 - val_accuracy: 0.5311\n",
            "Epoch 62/65\n",
            "207/207 [==============================] - 5s 23ms/step - loss: 0.1010 - accuracy: 0.9595 - val_loss: 2.1618 - val_accuracy: 0.4834\n",
            "Epoch 63/65\n",
            "207/207 [==============================] - 5s 23ms/step - loss: 0.0976 - accuracy: 0.9609 - val_loss: 2.2394 - val_accuracy: 0.4937\n",
            "Epoch 64/65\n",
            "207/207 [==============================] - 5s 23ms/step - loss: 0.0926 - accuracy: 0.9630 - val_loss: 2.3080 - val_accuracy: 0.4906\n",
            "Epoch 65/65\n",
            "207/207 [==============================] - 5s 23ms/step - loss: 0.0910 - accuracy: 0.9643 - val_loss: 2.0056 - val_accuracy: 0.5395\n"
          ]
        }
      ]
    },
    {
      "cell_type": "code",
      "source": [
        "full_model.evaluate([x_test_1, x_test_2],  y_test, verbose=2)\n",
        "\n",
        "plt.plot(history.history['accuracy'], label='accuracy')\n",
        "plt.plot(history.history['val_accuracy'], label = 'val_accuracy')\n",
        "plt.xlabel('Epoch')\n",
        "plt.ylabel('Accuracy')\n",
        "plt.ylim([0.5, 1])\n",
        "plt.legend(loc='lower right')\n",
        "plt.savefig(\"acc_exp1.png\")\n",
        "\n",
        "pred =full_model.predict([x_test_1, x_test_2], y_test.all())\n",
        "np.save(\"pred_exp1.npy\", pred)"
      ],
      "metadata": {
        "colab": {
          "base_uri": "https://localhost:8080/",
          "height": 300
        },
        "id": "mVF2X5pFL-y7",
        "outputId": "be472217-5d93-4167-e33f-03ba8c24ffbf"
      },
      "execution_count": null,
      "outputs": [
        {
          "output_type": "stream",
          "name": "stdout",
          "text": [
            "52/52 - 1s - loss: 1.9434 - accuracy: 0.5525 - 871ms/epoch - 17ms/step\n"
          ]
        },
        {
          "output_type": "display_data",
          "data": {
            "image/png": "[encoded data removed]",
            "text/plain": [
              "<Figure size 432x288 with 1 Axes>"
            ]
          },
          "metadata": {
            "needs_background": "light"
          }
        }
      ]
    },
    {
      "cell_type": "code",
      "source": [
        "print(classification_report(y_test, np.round(pred)))"
      ],
      "metadata": {
        "colab": {
          "base_uri": "https://localhost:8080/"
        },
        "id": "6NeVFJuOMEn_",
        "outputId": "072bc9e6-c434-496c-e01f-03fd7c842b00"
      },
      "execution_count": null,
      "outputs": [
        {
          "output_type": "stream",
          "name": "stdout",
          "text": [
            "              precision    recall  f1-score   support\n",
            "\n",
            "           0       1.00      0.46      0.63      1379\n",
            "           1       0.27      1.00      0.43       279\n",
            "\n",
            "    accuracy                           0.55      1658\n",
            "   macro avg       0.64      0.73      0.53      1658\n",
            "weighted avg       0.88      0.55      0.60      1658\n",
            "\n"
          ]
        }
      ]
    },
    {
      "cell_type": "code",
      "source": [
        "cm = confusion_matrix(y_test, np.round(pred))\n",
        "plt.imshow(cm)"
      ],
      "metadata": {
        "colab": {
          "base_uri": "https://localhost:8080/",
          "height": 286
        },
        "id": "wl47tqWgMEkC",
        "outputId": "05da064b-f2bf-44fd-ef06-55018324b07c"
      },
      "execution_count": null,
      "outputs": [
        {
          "output_type": "execute_result",
          "data": {
            "text/plain": [
              "<matplotlib.image.AxesImage at 0x7f8090551610>"
            ]
          },
          "metadata": {},
          "execution_count": 9
        },
        {
          "output_type": "display_data",
          "data": {
            "image/png": "[encoded data removed]",
            "text/plain": [
              "<Figure size 432x288 with 1 Axes>"
            ]
          },
          "metadata": {
            "needs_background": "light"
          }
        }
      ]
    },
    {
      "cell_type": "markdown",
      "source": [
        "## Experiment - 3 (Exponential Noise)"
      ],
      "metadata": {
        "id": "BXb6wIXjOAWu"
      }
    },
    {
      "cell_type": "code",
      "source": [
        "noise_1 = np.random.exponential(0.15*np.amax(x_train_1), x_train_1.shape)\n",
        "noise_2 =np.random.exponential(0.15*np.amax(x_train_2), x_train_2.shape)\n",
        "\n",
        "x_train_1 = x_train_1 + noise_1\n",
        "x_train_2 = x_train_2 + noise_2\n",
        "\n",
        "x_train_1 = x_train_1.reshape((13201, 201, 1))\n",
        "x_train_2 = x_train_2.reshape((13201, 61, 1))\n",
        "\n",
        "x_test_1 = x_test_1.reshape((1658, 201, 1))\n",
        "x_test_2 = x_test_2.reshape((1658, 61, 1))\n",
        "\n",
        "x_val_1 = x_val_1.reshape((1657, 201, 1))\n",
        "x_val_2 = x_val_2.reshape((1657, 61, 1))"
      ],
      "metadata": {
        "id": "nnAYX7IYMEgQ"
      },
      "execution_count": 13,
      "outputs": []
    },
    {
      "cell_type": "code",
      "source": [
        "##model\n",
        "input_1 = tf.keras.layers.Input(shape=(201, 1))\n",
        "\n",
        "x = tf.keras.layers.Conv1D(16, 5, activation='relu', padding='same')(input_1)\n",
        "x = tf.keras.layers.Conv1D(16, 5, activation='relu', padding='same')(x)\n",
        "x = tf.keras.layers.MaxPool1D(5, 2, padding='same')(x)\n",
        "x = tf.keras.layers.Conv1D(32, 5, activation='relu', padding='same')(x)\n",
        "x = tf.keras.layers.Conv1D(32, 5, activation='relu', padding='same')(x)\n",
        "x = tf.keras.layers.MaxPool1D(5, 2, padding='same')(x)\n",
        "x = tf.keras.layers.Conv1D(64, 5, activation='relu', padding='same')(x)\n",
        "x = tf.keras.layers.Conv1D(64, 5, activation='relu', padding='same')(x)\n",
        "x = tf.keras.layers.MaxPool1D(5, 2, padding='same')(x)\n",
        "x = tf.keras.layers.Conv1D(128, 5, activation='relu', padding='same')(x)\n",
        "x = tf.keras.layers.Conv1D(128, 5, activation='relu', padding='same')(x)\n",
        "x = tf.keras.layers.MaxPool1D(5, 2, padding='same')(x)\n",
        "x = tf.keras.layers.Conv1D(256, 5, activation='relu', padding='same')(x)\n",
        "x = tf.keras.layers.Conv1D(256, 5, activation='relu', padding='same')(x)\n",
        "x = tf.keras.layers.MaxPool1D(5, 2, padding='same')(x)\n",
        "\n",
        "x.get_shape().assert_has_rank(3)\n",
        "net_shape = x.get_shape().as_list()\n",
        "output_dim = net_shape[1] * net_shape[2]\n",
        "x = tf.reshape(x, [-1, output_dim], name=\"flatten\")\n",
        "\n",
        "\n",
        "input_2 = tf.keras.layers.Input(shape=(61, 1))\n",
        "y = tf.keras.layers.Conv1D(16, 5, activation='relu', padding='same')(input_2)\n",
        "y = tf.keras.layers.Conv1D(16, 5, activation='relu', padding='same')(y)\n",
        "y = tf.keras.layers.MaxPool1D(7, 2, padding='same')(y)\n",
        "y = tf.keras.layers.Conv1D(32, 5, activation='relu', padding='same')(y) \n",
        "y = tf.keras.layers.Conv1D(32, 5, activation='relu', padding='same')(y)\n",
        "y = tf.keras.layers.MaxPool1D(7, 2, padding='same')(y)\n",
        "\n",
        "y.get_shape().assert_has_rank(3)\n",
        "net_shape = y.get_shape().as_list()\n",
        "output_dim = net_shape[1] * net_shape[2]\n",
        "y = tf.reshape(y, [-1, output_dim], name=\"flatten\")\n",
        "\n",
        "concat = tf.keras.layers.Concatenate(axis = -1)([x, y])\n",
        "\n",
        "output = tf.keras.layers.Dense(512)(concat)\n",
        "output = tf.keras.layers.Dense(512)(output)\n",
        "output = tf.keras.layers.Dense(512)(output)\n",
        "output = tf.keras.layers.Dense(512)(output)\n",
        "output = tf.keras.layers.Dense(1, activation = \"sigmoid\")(output)\n",
        "\n",
        "full_model = tf.keras.Model(inputs=[input_1, input_2], outputs=[output])\n",
        "\n",
        "full_model.summary()\n",
        "\n",
        "full_model.compile(tf.keras.optimizers.Adam(learning_rate=1e-05, beta_1=0.9, beta_2=0.999, epsilon=1e-08),\n",
        "              loss=tf.keras.losses.BinaryCrossentropy(from_logits=False),\n",
        "              metrics=[\"accuracy\"])"
      ],
      "metadata": {
        "colab": {
          "base_uri": "https://localhost:8080/"
        },
        "id": "gR-h-VLUMEc6",
        "outputId": "9e7845e1-9c3a-4531-dab5-9c4a73942ad4"
      },
      "execution_count": 14,
      "outputs": [
        {
          "output_type": "stream",
          "name": "stdout",
          "text": [
            "Model: \"model_1\"\n",
            "__________________________________________________________________________________________________\n",
            " Layer (type)                   Output Shape         Param #     Connected to                     \n",
            "==================================================================================================\n",
            " input_3 (InputLayer)           [(None, 201, 1)]     0           []                               \n",
            "                                                                                                  \n",
            " conv1d_14 (Conv1D)             (None, 201, 16)      96          ['input_3[0][0]']                \n",
            "                                                                                                  \n",
            " conv1d_15 (Conv1D)             (None, 201, 16)      1296        ['conv1d_14[0][0]']              \n",
            "                                                                                                  \n",
            " max_pooling1d_7 (MaxPooling1D)  (None, 101, 16)     0           ['conv1d_15[0][0]']              \n",
            "                                                                                                  \n",
            " conv1d_16 (Conv1D)             (None, 101, 32)      2592        ['max_pooling1d_7[0][0]']        \n",
            "                                                                                                  \n",
            " conv1d_17 (Conv1D)             (None, 101, 32)      5152        ['conv1d_16[0][0]']              \n",
            "                                                                                                  \n",
            " max_pooling1d_8 (MaxPooling1D)  (None, 51, 32)      0           ['conv1d_17[0][0]']              \n",
            "                                                                                                  \n",
            " conv1d_18 (Conv1D)             (None, 51, 64)       10304       ['max_pooling1d_8[0][0]']        \n",
            "                                                                                                  \n",
            " conv1d_19 (Conv1D)             (None, 51, 64)       20544       ['conv1d_18[0][0]']              \n",
            "                                                                                                  \n",
            " max_pooling1d_9 (MaxPooling1D)  (None, 26, 64)      0           ['conv1d_19[0][0]']              \n",
            "                                                                                                  \n",
            " input_4 (InputLayer)           [(None, 61, 1)]      0           []                               \n",
            "                                                                                                  \n",
            " conv1d_20 (Conv1D)             (None, 26, 128)      41088       ['max_pooling1d_9[0][0]']        \n",
            "                                                                                                  \n",
            " conv1d_24 (Conv1D)             (None, 61, 16)       96          ['input_4[0][0]']                \n",
            "                                                                                                  \n",
            " conv1d_21 (Conv1D)             (None, 26, 128)      82048       ['conv1d_20[0][0]']              \n",
            "                                                                                                  \n",
            " conv1d_25 (Conv1D)             (None, 61, 16)       1296        ['conv1d_24[0][0]']              \n",
            "                                                                                                  \n",
            " max_pooling1d_10 (MaxPooling1D  (None, 13, 128)     0           ['conv1d_21[0][0]']              \n",
            " )                                                                                                \n",
            "                                                                                                  \n",
            " max_pooling1d_12 (MaxPooling1D  (None, 31, 16)      0           ['conv1d_25[0][0]']              \n",
            " )                                                                                                \n",
            "                                                                                                  \n",
            " conv1d_22 (Conv1D)             (None, 13, 256)      164096      ['max_pooling1d_10[0][0]']       \n",
            "                                                                                                  \n",
            " conv1d_26 (Conv1D)             (None, 31, 32)       2592        ['max_pooling1d_12[0][0]']       \n",
            "                                                                                                  \n",
            " conv1d_23 (Conv1D)             (None, 13, 256)      327936      ['conv1d_22[0][0]']              \n",
            "                                                                                                  \n",
            " conv1d_27 (Conv1D)             (None, 31, 32)       5152        ['conv1d_26[0][0]']              \n",
            "                                                                                                  \n",
            " max_pooling1d_11 (MaxPooling1D  (None, 7, 256)      0           ['conv1d_23[0][0]']              \n",
            " )                                                                                                \n",
            "                                                                                                  \n",
            " max_pooling1d_13 (MaxPooling1D  (None, 16, 32)      0           ['conv1d_27[0][0]']              \n",
            " )                                                                                                \n",
            "                                                                                                  \n",
            " tf.reshape_2 (TFOpLambda)      (None, 1792)         0           ['max_pooling1d_11[0][0]']       \n",
            "                                                                                                  \n",
            " tf.reshape_3 (TFOpLambda)      (None, 512)          0           ['max_pooling1d_13[0][0]']       \n",
            "                                                                                                  \n",
            " concatenate_1 (Concatenate)    (None, 2304)         0           ['tf.reshape_2[0][0]',           \n",
            "                                                                  'tf.reshape_3[0][0]']           \n",
            "                                                                                                  \n",
            " dense_5 (Dense)                (None, 512)          1180160     ['concatenate_1[0][0]']          \n",
            "                                                                                                  \n",
            " dense_6 (Dense)                (None, 512)          262656      ['dense_5[0][0]']                \n",
            "                                                                                                  \n",
            " dense_7 (Dense)                (None, 512)          262656      ['dense_6[0][0]']                \n",
            "                                                                                                  \n",
            " dense_8 (Dense)                (None, 512)          262656      ['dense_7[0][0]']                \n",
            "                                                                                                  \n",
            " dense_9 (Dense)                (None, 1)            513         ['dense_8[0][0]']                \n",
            "                                                                                                  \n",
            "==================================================================================================\n",
            "Total params: 2,632,929\n",
            "Trainable params: 2,632,929\n",
            "Non-trainable params: 0\n",
            "__________________________________________________________________________________________________\n"
          ]
        }
      ]
    },
    {
      "cell_type": "code",
      "source": [
        "history = full_model.fit(\n",
        "    [x_train_1,\n",
        "    x_train_2], y_train,\n",
        "    batch_size=64,\n",
        "    epochs=65, validation_data=([x_val_1, x_val_2], y_val))"
      ],
      "metadata": {
        "colab": {
          "base_uri": "https://localhost:8080/"
        },
        "id": "JWns2YCTOQWG",
        "outputId": "c49e5c66-cd5b-4e41-d326-5ee38e75c5fd"
      },
      "execution_count": 15,
      "outputs": [
        {
          "output_type": "stream",
          "name": "stdout",
          "text": [
            "Epoch 1/65\n",
            "207/207 [==============================] - 8s 26ms/step - loss: 0.4539 - accuracy: 0.8377 - val_loss: 0.6442 - val_accuracy: 0.8630\n",
            "Epoch 2/65\n",
            "207/207 [==============================] - 5s 22ms/step - loss: 0.4440 - accuracy: 0.8377 - val_loss: 0.6051 - val_accuracy: 0.8630\n",
            "Epoch 3/65\n",
            "207/207 [==============================] - 5s 22ms/step - loss: 0.4245 - accuracy: 0.8378 - val_loss: 0.5351 - val_accuracy: 0.8630\n",
            "Epoch 4/65\n",
            "207/207 [==============================] - 5s 22ms/step - loss: 0.3984 - accuracy: 0.8375 - val_loss: 0.4870 - val_accuracy: 0.8630\n",
            "Epoch 5/65\n",
            "207/207 [==============================] - 5s 22ms/step - loss: 0.3893 - accuracy: 0.8372 - val_loss: 0.4940 - val_accuracy: 0.8630\n",
            "Epoch 6/65\n",
            "207/207 [==============================] - 5s 22ms/step - loss: 0.3845 - accuracy: 0.8370 - val_loss: 0.4913 - val_accuracy: 0.8630\n",
            "Epoch 7/65\n",
            "207/207 [==============================] - 5s 22ms/step - loss: 0.3795 - accuracy: 0.8381 - val_loss: 0.4999 - val_accuracy: 0.8624\n",
            "Epoch 8/65\n",
            "207/207 [==============================] - 5s 22ms/step - loss: 0.3768 - accuracy: 0.8381 - val_loss: 0.4802 - val_accuracy: 0.8630\n",
            "Epoch 9/65\n",
            "207/207 [==============================] - 5s 22ms/step - loss: 0.3745 - accuracy: 0.8381 - val_loss: 0.4831 - val_accuracy: 0.8612\n",
            "Epoch 10/65\n",
            "207/207 [==============================] - 5s 22ms/step - loss: 0.3694 - accuracy: 0.8380 - val_loss: 0.4822 - val_accuracy: 0.8642\n",
            "Epoch 11/65\n",
            "207/207 [==============================] - 5s 22ms/step - loss: 0.3660 - accuracy: 0.8391 - val_loss: 0.4815 - val_accuracy: 0.8636\n",
            "Epoch 12/65\n",
            "207/207 [==============================] - 5s 22ms/step - loss: 0.3650 - accuracy: 0.8374 - val_loss: 0.4851 - val_accuracy: 0.8636\n",
            "Epoch 13/65\n",
            "207/207 [==============================] - 5s 22ms/step - loss: 0.3611 - accuracy: 0.8387 - val_loss: 0.4827 - val_accuracy: 0.8606\n",
            "Epoch 14/65\n",
            "207/207 [==============================] - 5s 22ms/step - loss: 0.3574 - accuracy: 0.8398 - val_loss: 0.4807 - val_accuracy: 0.8564\n",
            "Epoch 15/65\n",
            "207/207 [==============================] - 5s 22ms/step - loss: 0.3553 - accuracy: 0.8391 - val_loss: 0.4702 - val_accuracy: 0.8570\n",
            "Epoch 16/65\n",
            "207/207 [==============================] - 5s 23ms/step - loss: 0.3525 - accuracy: 0.8392 - val_loss: 0.4543 - val_accuracy: 0.8588\n",
            "Epoch 17/65\n",
            "207/207 [==============================] - 5s 22ms/step - loss: 0.3485 - accuracy: 0.8419 - val_loss: 0.4625 - val_accuracy: 0.8546\n",
            "Epoch 18/65\n",
            "207/207 [==============================] - 5s 23ms/step - loss: 0.3443 - accuracy: 0.8426 - val_loss: 0.4491 - val_accuracy: 0.8527\n",
            "Epoch 19/65\n",
            "207/207 [==============================] - 5s 24ms/step - loss: 0.3413 - accuracy: 0.8417 - val_loss: 0.4646 - val_accuracy: 0.8437\n",
            "Epoch 20/65\n",
            "207/207 [==============================] - 5s 22ms/step - loss: 0.3359 - accuracy: 0.8450 - val_loss: 0.4467 - val_accuracy: 0.8352\n",
            "Epoch 21/65\n",
            "207/207 [==============================] - 5s 22ms/step - loss: 0.3377 - accuracy: 0.8424 - val_loss: 0.4151 - val_accuracy: 0.8521\n",
            "Epoch 22/65\n",
            "207/207 [==============================] - 5s 22ms/step - loss: 0.3324 - accuracy: 0.8457 - val_loss: 0.4197 - val_accuracy: 0.8467\n",
            "Epoch 23/65\n",
            "207/207 [==============================] - 5s 22ms/step - loss: 0.3272 - accuracy: 0.8487 - val_loss: 0.4366 - val_accuracy: 0.8322\n",
            "Epoch 24/65\n",
            "207/207 [==============================] - 5s 22ms/step - loss: 0.3230 - accuracy: 0.8524 - val_loss: 0.4135 - val_accuracy: 0.8515\n",
            "Epoch 25/65\n",
            "207/207 [==============================] - 5s 22ms/step - loss: 0.3259 - accuracy: 0.8483 - val_loss: 0.4157 - val_accuracy: 0.8612\n",
            "Epoch 26/65\n",
            "207/207 [==============================] - 5s 23ms/step - loss: 0.3148 - accuracy: 0.8554 - val_loss: 0.3947 - val_accuracy: 0.8805\n",
            "Epoch 27/65\n",
            "207/207 [==============================] - 5s 22ms/step - loss: 0.3130 - accuracy: 0.8536 - val_loss: 0.4115 - val_accuracy: 0.8690\n",
            "Epoch 28/65\n",
            "207/207 [==============================] - 5s 22ms/step - loss: 0.3083 - accuracy: 0.8585 - val_loss: 0.4234 - val_accuracy: 0.8540\n",
            "Epoch 29/65\n",
            "207/207 [==============================] - 5s 23ms/step - loss: 0.3039 - accuracy: 0.8586 - val_loss: 0.3946 - val_accuracy: 0.8781\n",
            "Epoch 30/65\n",
            "207/207 [==============================] - 5s 22ms/step - loss: 0.2996 - accuracy: 0.8625 - val_loss: 0.4004 - val_accuracy: 0.8672\n",
            "Epoch 31/65\n",
            "207/207 [==============================] - 5s 22ms/step - loss: 0.2968 - accuracy: 0.8633 - val_loss: 0.3997 - val_accuracy: 0.8570\n",
            "Epoch 32/65\n",
            "207/207 [==============================] - 5s 22ms/step - loss: 0.2939 - accuracy: 0.8659 - val_loss: 0.4125 - val_accuracy: 0.8449\n",
            "Epoch 33/65\n",
            "207/207 [==============================] - 5s 22ms/step - loss: 0.2893 - accuracy: 0.8670 - val_loss: 0.4004 - val_accuracy: 0.8497\n",
            "Epoch 34/65\n",
            "207/207 [==============================] - 5s 23ms/step - loss: 0.2872 - accuracy: 0.8678 - val_loss: 0.4151 - val_accuracy: 0.8365\n",
            "Epoch 35/65\n",
            "207/207 [==============================] - 5s 22ms/step - loss: 0.2804 - accuracy: 0.8716 - val_loss: 0.4122 - val_accuracy: 0.8322\n",
            "Epoch 36/65\n",
            "207/207 [==============================] - 5s 23ms/step - loss: 0.2821 - accuracy: 0.8718 - val_loss: 0.4159 - val_accuracy: 0.8274\n",
            "Epoch 37/65\n",
            "207/207 [==============================] - 5s 25ms/step - loss: 0.2717 - accuracy: 0.8746 - val_loss: 0.4133 - val_accuracy: 0.8262\n",
            "Epoch 38/65\n",
            "207/207 [==============================] - 5s 22ms/step - loss: 0.2716 - accuracy: 0.8777 - val_loss: 0.4209 - val_accuracy: 0.8177\n",
            "Epoch 39/65\n",
            "207/207 [==============================] - 5s 23ms/step - loss: 0.2689 - accuracy: 0.8774 - val_loss: 0.4300 - val_accuracy: 0.8063\n",
            "Epoch 40/65\n",
            "207/207 [==============================] - 5s 22ms/step - loss: 0.2649 - accuracy: 0.8796 - val_loss: 0.4156 - val_accuracy: 0.8189\n",
            "Epoch 41/65\n",
            "207/207 [==============================] - 5s 23ms/step - loss: 0.2584 - accuracy: 0.8838 - val_loss: 0.4501 - val_accuracy: 0.7888\n",
            "Epoch 42/65\n",
            "207/207 [==============================] - 5s 25ms/step - loss: 0.2563 - accuracy: 0.8847 - val_loss: 0.4644 - val_accuracy: 0.7646\n",
            "Epoch 43/65\n",
            "207/207 [==============================] - 5s 22ms/step - loss: 0.2532 - accuracy: 0.8842 - val_loss: 0.4518 - val_accuracy: 0.7779\n",
            "Epoch 44/65\n",
            "207/207 [==============================] - 5s 22ms/step - loss: 0.2493 - accuracy: 0.8899 - val_loss: 0.4825 - val_accuracy: 0.7429\n",
            "Epoch 45/65\n",
            "207/207 [==============================] - 5s 22ms/step - loss: 0.2460 - accuracy: 0.8896 - val_loss: 0.4819 - val_accuracy: 0.7477\n",
            "Epoch 46/65\n",
            "207/207 [==============================] - 5s 23ms/step - loss: 0.2405 - accuracy: 0.8919 - val_loss: 0.4845 - val_accuracy: 0.7453\n",
            "Epoch 47/65\n",
            "207/207 [==============================] - 5s 23ms/step - loss: 0.2358 - accuracy: 0.8924 - val_loss: 0.4918 - val_accuracy: 0.7296\n",
            "Epoch 48/65\n",
            "207/207 [==============================] - 5s 23ms/step - loss: 0.2334 - accuracy: 0.8955 - val_loss: 0.5227 - val_accuracy: 0.6964\n",
            "Epoch 49/65\n",
            "207/207 [==============================] - 5s 22ms/step - loss: 0.2323 - accuracy: 0.8980 - val_loss: 0.5065 - val_accuracy: 0.7103\n",
            "Epoch 50/65\n",
            "207/207 [==============================] - 5s 22ms/step - loss: 0.2294 - accuracy: 0.8963 - val_loss: 0.4944 - val_accuracy: 0.7200\n",
            "Epoch 51/65\n",
            "207/207 [==============================] - 5s 22ms/step - loss: 0.2244 - accuracy: 0.9002 - val_loss: 0.5160 - val_accuracy: 0.7067\n",
            "Epoch 52/65\n",
            "207/207 [==============================] - 5s 22ms/step - loss: 0.2199 - accuracy: 0.9021 - val_loss: 0.5064 - val_accuracy: 0.7115\n",
            "Epoch 53/65\n",
            "207/207 [==============================] - 5s 22ms/step - loss: 0.2166 - accuracy: 0.9052 - val_loss: 0.5108 - val_accuracy: 0.7055\n",
            "Epoch 54/65\n",
            "207/207 [==============================] - 5s 22ms/step - loss: 0.2146 - accuracy: 0.9056 - val_loss: 0.5225 - val_accuracy: 0.6976\n",
            "Epoch 55/65\n",
            "207/207 [==============================] - 5s 22ms/step - loss: 0.2063 - accuracy: 0.9094 - val_loss: 0.5361 - val_accuracy: 0.6838\n",
            "Epoch 56/65\n",
            "207/207 [==============================] - 5s 22ms/step - loss: 0.2077 - accuracy: 0.9092 - val_loss: 0.5266 - val_accuracy: 0.6940\n",
            "Epoch 57/65\n",
            "207/207 [==============================] - 5s 23ms/step - loss: 0.2011 - accuracy: 0.9114 - val_loss: 0.5177 - val_accuracy: 0.7001\n",
            "Epoch 58/65\n",
            "207/207 [==============================] - 5s 22ms/step - loss: 0.1982 - accuracy: 0.9140 - val_loss: 0.5483 - val_accuracy: 0.6777\n",
            "Epoch 59/65\n",
            "207/207 [==============================] - 5s 22ms/step - loss: 0.1951 - accuracy: 0.9152 - val_loss: 0.5394 - val_accuracy: 0.6868\n",
            "Epoch 60/65\n",
            "207/207 [==============================] - 5s 22ms/step - loss: 0.1909 - accuracy: 0.9184 - val_loss: 0.5749 - val_accuracy: 0.6602\n",
            "Epoch 61/65\n",
            "207/207 [==============================] - 5s 22ms/step - loss: 0.1850 - accuracy: 0.9217 - val_loss: 0.5838 - val_accuracy: 0.6542\n",
            "Epoch 62/65\n",
            "207/207 [==============================] - 5s 22ms/step - loss: 0.1864 - accuracy: 0.9180 - val_loss: 0.5566 - val_accuracy: 0.6765\n",
            "Epoch 63/65\n",
            "207/207 [==============================] - 5s 22ms/step - loss: 0.1849 - accuracy: 0.9188 - val_loss: 0.5635 - val_accuracy: 0.6705\n",
            "Epoch 64/65\n",
            "207/207 [==============================] - 5s 22ms/step - loss: 0.1776 - accuracy: 0.9239 - val_loss: 0.5863 - val_accuracy: 0.6578\n",
            "Epoch 65/65\n",
            "207/207 [==============================] - 5s 24ms/step - loss: 0.1718 - accuracy: 0.9285 - val_loss: 0.5002 - val_accuracy: 0.7206\n"
          ]
        }
      ]
    },
    {
      "cell_type": "code",
      "source": [
        "full_model.evaluate([x_test_1, x_test_2],  y_test, verbose=2)\n",
        "\n",
        "plt.plot(history.history['accuracy'], label='accuracy')\n",
        "plt.plot(history.history['val_accuracy'], label = 'val_accuracy')\n",
        "plt.xlabel('Epoch')\n",
        "plt.ylabel('Accuracy')\n",
        "plt.ylim([0.5, 1])\n",
        "plt.legend(loc='lower right')\n",
        "plt.savefig(\"acc_exp3.png\")\n",
        "\n",
        "pred =full_model.predict([x_test_1, x_test_2], y_test.all())\n",
        "np.save(\"pred_exp3.npy\", pred)"
      ],
      "metadata": {
        "id": "4bJO3LQzORZt",
        "colab": {
          "base_uri": "https://localhost:8080/",
          "height": 300
        },
        "outputId": "8fc0c0ab-5b47-4f16-ad89-b502da2f9d0b"
      },
      "execution_count": 16,
      "outputs": [
        {
          "output_type": "stream",
          "name": "stdout",
          "text": [
            "52/52 - 1s - loss: 0.4950 - accuracy: 0.7521 - 1s/epoch - 25ms/step\n"
          ]
        },
        {
          "output_type": "display_data",
          "data": {
            "image/png": "[encoded data removed]",
            "text/plain": [
              "<Figure size 432x288 with 1 Axes>"
            ]
          },
          "metadata": {
            "needs_background": "light"
          }
        }
      ]
    },
    {
      "cell_type": "code",
      "source": [
        "print(classification_report(y_test, np.round(pred)))"
      ],
      "metadata": {
        "id": "GLOdGuTSORVN",
        "colab": {
          "base_uri": "https://localhost:8080/"
        },
        "outputId": "aba3e4d6-935c-4505-a4cd-04d1c7e5e7cc"
      },
      "execution_count": 17,
      "outputs": [
        {
          "output_type": "stream",
          "name": "stdout",
          "text": [
            "              precision    recall  f1-score   support\n",
            "\n",
            "           0       0.98      0.72      0.83      1379\n",
            "           1       0.40      0.93      0.56       279\n",
            "\n",
            "    accuracy                           0.75      1658\n",
            "   macro avg       0.69      0.82      0.69      1658\n",
            "weighted avg       0.88      0.75      0.78      1658\n",
            "\n"
          ]
        }
      ]
    },
    {
      "cell_type": "code",
      "source": [
        "cm = confusion_matrix(y_test, np.round(pred))\n",
        "plt.imshow(cm)"
      ],
      "metadata": {
        "id": "p74Zqa0gORQU",
        "colab": {
          "base_uri": "https://localhost:8080/",
          "height": 286
        },
        "outputId": "f10ca1be-e8f3-4493-da67-6f2c99c6e1e1"
      },
      "execution_count": 18,
      "outputs": [
        {
          "output_type": "execute_result",
          "data": {
            "text/plain": [
              "<matplotlib.image.AxesImage at 0x7f2b34ef0510>"
            ]
          },
          "metadata": {},
          "execution_count": 18
        },
        {
          "output_type": "display_data",
          "data": {
            "image/png": "[encoded data removed]",
            "text/plain": [
              "<Figure size 432x288 with 1 Axes>"
            ]
          },
          "metadata": {
            "needs_background": "light"
          }
        }
      ]
    },
    {
      "cell_type": "code",
      "source": [
        ""
      ],
      "metadata": {
        "id": "BpVff0CHORMB"
      },
      "execution_count": null,
      "outputs": []
    },
    {
      "cell_type": "code",
      "source": [
        ""
      ],
      "metadata": {
        "id": "hDqdR-KgORHr"
      },
      "execution_count": null,
      "outputs": []
    },
    {
      "cell_type": "code",
      "source": [
        ""
      ],
      "metadata": {
        "id": "w1BRzOthORD0"
      },
      "execution_count": null,
      "outputs": []
    }
  ]
}